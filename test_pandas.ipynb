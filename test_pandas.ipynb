{
 "cells": [
  {
   "cell_type": "code",
   "execution_count": 2,
   "id": "initial_id",
   "metadata": {
    "ExecuteTime": {
     "end_time": "2025-08-17T02:29:08.863901Z",
     "start_time": "2025-08-17T02:29:08.857466Z"
    },
    "collapsed": true
   },
   "outputs": [
    {
     "name": "stdout",
     "output_type": "stream",
     "text": [
      "1. DataFrame 생성 방법들\n",
      "------------------------------\n",
      "딕셔너리로 생성한 DataFrame:\n",
      "    이름  나이  도시    급여\n",
      "0  김철수  25  서울  3000\n",
      "1  이영희  30  부산  3500\n",
      "2  박민수  35  대구  4000\n",
      "3  최수진  28  서울  3200\n",
      "4  정다은  32  광주  3800\n",
      "\n"
     ]
    }
   ],
   "source": [
    "import pandas as pd\n",
    "\n",
    "print(\"1. DataFrame 생성 방법들\")\n",
    "print(\"-\" * 30)\n",
    "\n",
    "# 1-1. 딕셔너리로 생성\n",
    "data = {\n",
    "    \"이름\": [\"김철수\", \"이영희\", \"박민수\", \"최수진\", \"정다은\"],\n",
    "    \"나이\": [25, 30, 35, 28, 32],\n",
    "    \"도시\": [\"서울\", \"부산\", \"대구\", \"서울\", \"광주\"],\n",
    "    \"급여\": [3000, 3500, 4000, 3200, 3800],\n",
    "}\n",
    "df = pd.DataFrame(data)\n",
    "print(\"딕셔너리로 생성한 DataFrame:\")\n",
    "print(df)\n",
    "print()"
   ]
  },
  {
   "cell_type": "code",
   "execution_count": 3,
   "id": "608c2de99ee4b8a7",
   "metadata": {
    "ExecuteTime": {
     "end_time": "2025-08-17T02:29:10.883957Z",
     "start_time": "2025-08-17T02:29:10.878345Z"
    }
   },
   "outputs": [
    {
     "name": "stdout",
     "output_type": "stream",
     "text": [
      "리스트로 생성한 DataFrame:\n",
      "    이름  나이  도시    급여\n",
      "0  김철수  25  서울  3000\n",
      "1  이영희  30  부산  3500\n",
      "2  박민수  35  대구  4000\n",
      "\n"
     ]
    }
   ],
   "source": [
    "data_list = [\n",
    "    [\"김철수\", 25, \"서울\", 3000],\n",
    "    [\"이영희\", 30, \"부산\", 3500],\n",
    "    [\"박민수\", 35, \"대구\", 4000],\n",
    "]\n",
    "df_list = pd.DataFrame(data_list, columns=[\"이름\", \"나이\", \"도시\", \"급여\"])\n",
    "print(\"리스트로 생성한 DataFrame:\")\n",
    "print(df_list)\n",
    "print()"
   ]
  },
  {
   "cell_type": "code",
   "execution_count": 4,
   "id": "bb5f97bd65d77e7e",
   "metadata": {
    "ExecuteTime": {
     "end_time": "2025-08-17T02:30:01.594974Z",
     "start_time": "2025-08-17T02:30:01.572993Z"
    }
   },
   "outputs": [
    {
     "name": "stdout",
     "output_type": "stream",
     "text": [
      "2. DataFrame 기본 정보\n",
      "------------------------------\n",
      "DataFrame 크기 (행, 열): (5, 4)\n",
      "컬럼 이름들: ['이름', '나이', '도시', '급여']\n",
      "인덱스: [0, 1, 2, 3, 4]\n",
      "데이터 타입:\n",
      "이름    object\n",
      "나이     int64\n",
      "도시    object\n",
      "급여     int64\n",
      "dtype: object\n",
      "\n",
      "기본 통계 정보:\n",
      "              나이           급여\n",
      "count   5.000000     5.000000\n",
      "mean   30.000000  3500.000000\n",
      "std     3.807887   412.310563\n",
      "min    25.000000  3000.000000\n",
      "25%    28.000000  3200.000000\n",
      "50%    30.000000  3500.000000\n",
      "75%    32.000000  3800.000000\n",
      "max    35.000000  4000.000000\n",
      "\n",
      "DataFrame 정보 요약:\n",
      "<class 'pandas.core.frame.DataFrame'>\n",
      "RangeIndex: 5 entries, 0 to 4\n",
      "Data columns (total 4 columns):\n",
      " #   Column  Non-Null Count  Dtype \n",
      "---  ------  --------------  ----- \n",
      " 0   이름      5 non-null      object\n",
      " 1   나이      5 non-null      int64 \n",
      " 2   도시      5 non-null      object\n",
      " 3   급여      5 non-null      int64 \n",
      "dtypes: int64(2), object(2)\n",
      "memory usage: 292.0+ bytes\n",
      "None\n",
      "\n"
     ]
    }
   ],
   "source": [
    "print(\"2. DataFrame 기본 정보\")\n",
    "print(\"-\" * 30)\n",
    "\n",
    "print(\"DataFrame 크기 (행, 열):\", df.shape)\n",
    "print(\"컬럼 이름들:\", list(df.columns))\n",
    "print(\"인덱스:\", list(df.index))\n",
    "print(\"데이터 타입:\")\n",
    "print(df.dtypes)\n",
    "print()\n",
    "\n",
    "print(\"기본 통계 정보:\")\n",
    "print(df.describe())\n",
    "print()\n",
    "\n",
    "print(\"DataFrame 정보 요약:\")\n",
    "print(df.info())\n",
    "print()"
   ]
  },
  {
   "cell_type": "code",
   "execution_count": 5,
   "id": "d29c6480398cff94",
   "metadata": {
    "ExecuteTime": {
     "end_time": "2025-08-17T02:31:49.695549Z",
     "start_time": "2025-08-17T02:31:49.691599Z"
    }
   },
   "outputs": [
    {
     "data": {
      "text/plain": [
       "0    김철수\n",
       "1    이영희\n",
       "2    박민수\n",
       "3    최수진\n",
       "4    정다은\n",
       "Name: 이름, dtype: object"
      ]
     },
     "execution_count": 5,
     "metadata": {},
     "output_type": "execute_result"
    }
   ],
   "source": [
    "df[\"이름\"]"
   ]
  },
  {
   "cell_type": "code",
   "execution_count": 6,
   "id": "325921017c68e6a7",
   "metadata": {
    "ExecuteTime": {
     "end_time": "2025-08-17T02:32:00.916752Z",
     "start_time": "2025-08-17T02:32:00.910735Z"
    }
   },
   "outputs": [
    {
     "data": {
      "text/html": [
       "<div>\n",
       "<style scoped>\n",
       "    .dataframe tbody tr th:only-of-type {\n",
       "        vertical-align: middle;\n",
       "    }\n",
       "\n",
       "    .dataframe tbody tr th {\n",
       "        vertical-align: top;\n",
       "    }\n",
       "\n",
       "    .dataframe thead th {\n",
       "        text-align: right;\n",
       "    }\n",
       "</style>\n",
       "<table border=\"1\" class=\"dataframe\">\n",
       "  <thead>\n",
       "    <tr style=\"text-align: right;\">\n",
       "      <th></th>\n",
       "      <th>이름</th>\n",
       "      <th>도시</th>\n",
       "    </tr>\n",
       "  </thead>\n",
       "  <tbody>\n",
       "    <tr>\n",
       "      <th>0</th>\n",
       "      <td>김철수</td>\n",
       "      <td>서울</td>\n",
       "    </tr>\n",
       "    <tr>\n",
       "      <th>1</th>\n",
       "      <td>이영희</td>\n",
       "      <td>부산</td>\n",
       "    </tr>\n",
       "    <tr>\n",
       "      <th>2</th>\n",
       "      <td>박민수</td>\n",
       "      <td>대구</td>\n",
       "    </tr>\n",
       "    <tr>\n",
       "      <th>3</th>\n",
       "      <td>최수진</td>\n",
       "      <td>서울</td>\n",
       "    </tr>\n",
       "    <tr>\n",
       "      <th>4</th>\n",
       "      <td>정다은</td>\n",
       "      <td>광주</td>\n",
       "    </tr>\n",
       "  </tbody>\n",
       "</table>\n",
       "</div>"
      ],
      "text/plain": [
       "    이름  도시\n",
       "0  김철수  서울\n",
       "1  이영희  부산\n",
       "2  박민수  대구\n",
       "3  최수진  서울\n",
       "4  정다은  광주"
      ]
     },
     "execution_count": 6,
     "metadata": {},
     "output_type": "execute_result"
    }
   ],
   "source": [
    "df[[\"이름\", \"도시\"]]"
   ]
  },
  {
   "cell_type": "code",
   "execution_count": 7,
   "id": "433d5ae435b4eae8",
   "metadata": {
    "ExecuteTime": {
     "end_time": "2025-08-17T02:32:29.505683Z",
     "start_time": "2025-08-17T02:32:29.499877Z"
    }
   },
   "outputs": [
    {
     "data": {
      "text/html": [
       "<div>\n",
       "<style scoped>\n",
       "    .dataframe tbody tr th:only-of-type {\n",
       "        vertical-align: middle;\n",
       "    }\n",
       "\n",
       "    .dataframe tbody tr th {\n",
       "        vertical-align: top;\n",
       "    }\n",
       "\n",
       "    .dataframe thead th {\n",
       "        text-align: right;\n",
       "    }\n",
       "</style>\n",
       "<table border=\"1\" class=\"dataframe\">\n",
       "  <thead>\n",
       "    <tr style=\"text-align: right;\">\n",
       "      <th></th>\n",
       "      <th>이름</th>\n",
       "      <th>나이</th>\n",
       "      <th>도시</th>\n",
       "      <th>급여</th>\n",
       "    </tr>\n",
       "  </thead>\n",
       "  <tbody>\n",
       "    <tr>\n",
       "      <th>1</th>\n",
       "      <td>이영희</td>\n",
       "      <td>30</td>\n",
       "      <td>부산</td>\n",
       "      <td>3500</td>\n",
       "    </tr>\n",
       "    <tr>\n",
       "      <th>2</th>\n",
       "      <td>박민수</td>\n",
       "      <td>35</td>\n",
       "      <td>대구</td>\n",
       "      <td>4000</td>\n",
       "    </tr>\n",
       "    <tr>\n",
       "      <th>4</th>\n",
       "      <td>정다은</td>\n",
       "      <td>32</td>\n",
       "      <td>광주</td>\n",
       "      <td>3800</td>\n",
       "    </tr>\n",
       "  </tbody>\n",
       "</table>\n",
       "</div>"
      ],
      "text/plain": [
       "    이름  나이  도시    급여\n",
       "1  이영희  30  부산  3500\n",
       "2  박민수  35  대구  4000\n",
       "4  정다은  32  광주  3800"
      ]
     },
     "execution_count": 7,
     "metadata": {},
     "output_type": "execute_result"
    }
   ],
   "source": [
    "df[df[\"나이\"] >= 30]"
   ]
  },
  {
   "cell_type": "code",
   "execution_count": 8,
   "id": "258728d51446ee46",
   "metadata": {
    "ExecuteTime": {
     "end_time": "2025-08-17T02:32:41.756718Z",
     "start_time": "2025-08-17T02:32:41.751844Z"
    }
   },
   "outputs": [
    {
     "data": {
      "text/html": [
       "<div>\n",
       "<style scoped>\n",
       "    .dataframe tbody tr th:only-of-type {\n",
       "        vertical-align: middle;\n",
       "    }\n",
       "\n",
       "    .dataframe tbody tr th {\n",
       "        vertical-align: top;\n",
       "    }\n",
       "\n",
       "    .dataframe thead th {\n",
       "        text-align: right;\n",
       "    }\n",
       "</style>\n",
       "<table border=\"1\" class=\"dataframe\">\n",
       "  <thead>\n",
       "    <tr style=\"text-align: right;\">\n",
       "      <th></th>\n",
       "      <th>이름</th>\n",
       "      <th>나이</th>\n",
       "      <th>도시</th>\n",
       "      <th>급여</th>\n",
       "    </tr>\n",
       "  </thead>\n",
       "  <tbody>\n",
       "    <tr>\n",
       "      <th>0</th>\n",
       "      <td>김철수</td>\n",
       "      <td>25</td>\n",
       "      <td>서울</td>\n",
       "      <td>3000</td>\n",
       "    </tr>\n",
       "    <tr>\n",
       "      <th>3</th>\n",
       "      <td>최수진</td>\n",
       "      <td>28</td>\n",
       "      <td>서울</td>\n",
       "      <td>3200</td>\n",
       "    </tr>\n",
       "  </tbody>\n",
       "</table>\n",
       "</div>"
      ],
      "text/plain": [
       "    이름  나이  도시    급여\n",
       "0  김철수  25  서울  3000\n",
       "3  최수진  28  서울  3200"
      ]
     },
     "execution_count": 8,
     "metadata": {},
     "output_type": "execute_result"
    }
   ],
   "source": [
    "df[df[\"도시\"] == \"서울\"]"
   ]
  },
  {
   "cell_type": "code",
   "execution_count": 9,
   "id": "f13e5e0fbb81e61b",
   "metadata": {
    "ExecuteTime": {
     "end_time": "2025-08-17T02:33:02.614151Z",
     "start_time": "2025-08-17T02:33:02.608521Z"
    }
   },
   "outputs": [
    {
     "data": {
      "text/html": [
       "<div>\n",
       "<style scoped>\n",
       "    .dataframe tbody tr th:only-of-type {\n",
       "        vertical-align: middle;\n",
       "    }\n",
       "\n",
       "    .dataframe tbody tr th {\n",
       "        vertical-align: top;\n",
       "    }\n",
       "\n",
       "    .dataframe thead th {\n",
       "        text-align: right;\n",
       "    }\n",
       "</style>\n",
       "<table border=\"1\" class=\"dataframe\">\n",
       "  <thead>\n",
       "    <tr style=\"text-align: right;\">\n",
       "      <th></th>\n",
       "      <th>이름</th>\n",
       "      <th>나이</th>\n",
       "      <th>도시</th>\n",
       "      <th>급여</th>\n",
       "    </tr>\n",
       "  </thead>\n",
       "  <tbody>\n",
       "    <tr>\n",
       "      <th>1</th>\n",
       "      <td>이영희</td>\n",
       "      <td>30</td>\n",
       "      <td>부산</td>\n",
       "      <td>3500</td>\n",
       "    </tr>\n",
       "    <tr>\n",
       "      <th>2</th>\n",
       "      <td>박민수</td>\n",
       "      <td>35</td>\n",
       "      <td>대구</td>\n",
       "      <td>4000</td>\n",
       "    </tr>\n",
       "    <tr>\n",
       "      <th>4</th>\n",
       "      <td>정다은</td>\n",
       "      <td>32</td>\n",
       "      <td>광주</td>\n",
       "      <td>3800</td>\n",
       "    </tr>\n",
       "  </tbody>\n",
       "</table>\n",
       "</div>"
      ],
      "text/plain": [
       "    이름  나이  도시    급여\n",
       "1  이영희  30  부산  3500\n",
       "2  박민수  35  대구  4000\n",
       "4  정다은  32  광주  3800"
      ]
     },
     "execution_count": 9,
     "metadata": {},
     "output_type": "execute_result"
    }
   ],
   "source": [
    "df[(df[\"나이\"] >= 30) & (df[\"급여\"] >= 3500)]"
   ]
  },
  {
   "cell_type": "code",
   "execution_count": 10,
   "id": "88f45cf8b79ab1bc",
   "metadata": {
    "ExecuteTime": {
     "end_time": "2025-08-17T02:33:26.858750Z",
     "start_time": "2025-08-17T02:33:26.855247Z"
    }
   },
   "outputs": [
    {
     "data": {
      "text/plain": [
       "이름     이영희\n",
       "나이      30\n",
       "도시      부산\n",
       "급여    3500\n",
       "Name: 1, dtype: object"
      ]
     },
     "execution_count": 10,
     "metadata": {},
     "output_type": "execute_result"
    }
   ],
   "source": [
    "df.iloc[1]"
   ]
  },
  {
   "cell_type": "code",
   "execution_count": 11,
   "id": "38d107e9eafab750",
   "metadata": {
    "ExecuteTime": {
     "end_time": "2025-08-17T02:33:52.439522Z",
     "start_time": "2025-08-17T02:33:52.434263Z"
    }
   },
   "outputs": [
    {
     "data": {
      "text/html": [
       "<div>\n",
       "<style scoped>\n",
       "    .dataframe tbody tr th:only-of-type {\n",
       "        vertical-align: middle;\n",
       "    }\n",
       "\n",
       "    .dataframe tbody tr th {\n",
       "        vertical-align: top;\n",
       "    }\n",
       "\n",
       "    .dataframe thead th {\n",
       "        text-align: right;\n",
       "    }\n",
       "</style>\n",
       "<table border=\"1\" class=\"dataframe\">\n",
       "  <thead>\n",
       "    <tr style=\"text-align: right;\">\n",
       "      <th></th>\n",
       "      <th>이름</th>\n",
       "      <th>나이</th>\n",
       "    </tr>\n",
       "  </thead>\n",
       "  <tbody>\n",
       "    <tr>\n",
       "      <th>0</th>\n",
       "      <td>김철수</td>\n",
       "      <td>25</td>\n",
       "    </tr>\n",
       "    <tr>\n",
       "      <th>1</th>\n",
       "      <td>이영희</td>\n",
       "      <td>30</td>\n",
       "    </tr>\n",
       "    <tr>\n",
       "      <th>2</th>\n",
       "      <td>박민수</td>\n",
       "      <td>35</td>\n",
       "    </tr>\n",
       "  </tbody>\n",
       "</table>\n",
       "</div>"
      ],
      "text/plain": [
       "    이름  나이\n",
       "0  김철수  25\n",
       "1  이영희  30\n",
       "2  박민수  35"
      ]
     },
     "execution_count": 11,
     "metadata": {},
     "output_type": "execute_result"
    }
   ],
   "source": [
    "df.iloc[0:3, 0:2]"
   ]
  },
  {
   "cell_type": "code",
   "execution_count": 12,
   "id": "c8ab3542b2fc47ac",
   "metadata": {
    "ExecuteTime": {
     "end_time": "2025-08-17T02:34:23.509689Z",
     "start_time": "2025-08-17T02:34:23.508060Z"
    }
   },
   "outputs": [],
   "source": [
    "df_copy = df.copy()"
   ]
  },
  {
   "cell_type": "code",
   "execution_count": 13,
   "id": "827d6c8fce32259e",
   "metadata": {
    "ExecuteTime": {
     "end_time": "2025-08-17T02:34:35.310124Z",
     "start_time": "2025-08-17T02:34:35.307354Z"
    }
   },
   "outputs": [],
   "source": [
    "df_copy[\"부서\"] = [\"개발\", \"마케팅\", \"영업\", \"개발\", \"인사\"]"
   ]
  },
  {
   "cell_type": "code",
   "execution_count": 14,
   "id": "2caa5692f49854f9",
   "metadata": {
    "ExecuteTime": {
     "end_time": "2025-08-17T02:34:38.790469Z",
     "start_time": "2025-08-17T02:34:38.784862Z"
    }
   },
   "outputs": [
    {
     "data": {
      "text/html": [
       "<div>\n",
       "<style scoped>\n",
       "    .dataframe tbody tr th:only-of-type {\n",
       "        vertical-align: middle;\n",
       "    }\n",
       "\n",
       "    .dataframe tbody tr th {\n",
       "        vertical-align: top;\n",
       "    }\n",
       "\n",
       "    .dataframe thead th {\n",
       "        text-align: right;\n",
       "    }\n",
       "</style>\n",
       "<table border=\"1\" class=\"dataframe\">\n",
       "  <thead>\n",
       "    <tr style=\"text-align: right;\">\n",
       "      <th></th>\n",
       "      <th>이름</th>\n",
       "      <th>나이</th>\n",
       "      <th>도시</th>\n",
       "      <th>급여</th>\n",
       "      <th>부서</th>\n",
       "    </tr>\n",
       "  </thead>\n",
       "  <tbody>\n",
       "    <tr>\n",
       "      <th>0</th>\n",
       "      <td>김철수</td>\n",
       "      <td>25</td>\n",
       "      <td>서울</td>\n",
       "      <td>3000</td>\n",
       "      <td>개발</td>\n",
       "    </tr>\n",
       "    <tr>\n",
       "      <th>1</th>\n",
       "      <td>이영희</td>\n",
       "      <td>30</td>\n",
       "      <td>부산</td>\n",
       "      <td>3500</td>\n",
       "      <td>마케팅</td>\n",
       "    </tr>\n",
       "    <tr>\n",
       "      <th>2</th>\n",
       "      <td>박민수</td>\n",
       "      <td>35</td>\n",
       "      <td>대구</td>\n",
       "      <td>4000</td>\n",
       "      <td>영업</td>\n",
       "    </tr>\n",
       "    <tr>\n",
       "      <th>3</th>\n",
       "      <td>최수진</td>\n",
       "      <td>28</td>\n",
       "      <td>서울</td>\n",
       "      <td>3200</td>\n",
       "      <td>개발</td>\n",
       "    </tr>\n",
       "    <tr>\n",
       "      <th>4</th>\n",
       "      <td>정다은</td>\n",
       "      <td>32</td>\n",
       "      <td>광주</td>\n",
       "      <td>3800</td>\n",
       "      <td>인사</td>\n",
       "    </tr>\n",
       "  </tbody>\n",
       "</table>\n",
       "</div>"
      ],
      "text/plain": [
       "    이름  나이  도시    급여   부서\n",
       "0  김철수  25  서울  3000   개발\n",
       "1  이영희  30  부산  3500  마케팅\n",
       "2  박민수  35  대구  4000   영업\n",
       "3  최수진  28  서울  3200   개발\n",
       "4  정다은  32  광주  3800   인사"
      ]
     },
     "execution_count": 14,
     "metadata": {},
     "output_type": "execute_result"
    }
   ],
   "source": [
    "df_copy"
   ]
  },
  {
   "cell_type": "code",
   "execution_count": 16,
   "id": "3aa7fc4dad0c4963",
   "metadata": {
    "ExecuteTime": {
     "end_time": "2025-08-17T02:35:00.357710Z",
     "start_time": "2025-08-17T02:35:00.355077Z"
    }
   },
   "outputs": [],
   "source": [
    "df_copy[\"급여\"] = df_copy[\"급여\"] * 1.1"
   ]
  },
  {
   "cell_type": "code",
   "execution_count": 17,
   "id": "5f75ab7bad3b6423",
   "metadata": {
    "ExecuteTime": {
     "end_time": "2025-08-17T02:35:03.348221Z",
     "start_time": "2025-08-17T02:35:03.343241Z"
    }
   },
   "outputs": [
    {
     "data": {
      "text/html": [
       "<div>\n",
       "<style scoped>\n",
       "    .dataframe tbody tr th:only-of-type {\n",
       "        vertical-align: middle;\n",
       "    }\n",
       "\n",
       "    .dataframe tbody tr th {\n",
       "        vertical-align: top;\n",
       "    }\n",
       "\n",
       "    .dataframe thead th {\n",
       "        text-align: right;\n",
       "    }\n",
       "</style>\n",
       "<table border=\"1\" class=\"dataframe\">\n",
       "  <thead>\n",
       "    <tr style=\"text-align: right;\">\n",
       "      <th></th>\n",
       "      <th>이름</th>\n",
       "      <th>나이</th>\n",
       "      <th>도시</th>\n",
       "      <th>급여</th>\n",
       "      <th>부서</th>\n",
       "    </tr>\n",
       "  </thead>\n",
       "  <tbody>\n",
       "    <tr>\n",
       "      <th>0</th>\n",
       "      <td>김철수</td>\n",
       "      <td>25</td>\n",
       "      <td>서울</td>\n",
       "      <td>3630.0</td>\n",
       "      <td>개발</td>\n",
       "    </tr>\n",
       "    <tr>\n",
       "      <th>1</th>\n",
       "      <td>이영희</td>\n",
       "      <td>30</td>\n",
       "      <td>부산</td>\n",
       "      <td>4235.0</td>\n",
       "      <td>마케팅</td>\n",
       "    </tr>\n",
       "    <tr>\n",
       "      <th>2</th>\n",
       "      <td>박민수</td>\n",
       "      <td>35</td>\n",
       "      <td>대구</td>\n",
       "      <td>4840.0</td>\n",
       "      <td>영업</td>\n",
       "    </tr>\n",
       "    <tr>\n",
       "      <th>3</th>\n",
       "      <td>최수진</td>\n",
       "      <td>28</td>\n",
       "      <td>서울</td>\n",
       "      <td>3872.0</td>\n",
       "      <td>개발</td>\n",
       "    </tr>\n",
       "    <tr>\n",
       "      <th>4</th>\n",
       "      <td>정다은</td>\n",
       "      <td>32</td>\n",
       "      <td>광주</td>\n",
       "      <td>4598.0</td>\n",
       "      <td>인사</td>\n",
       "    </tr>\n",
       "  </tbody>\n",
       "</table>\n",
       "</div>"
      ],
      "text/plain": [
       "    이름  나이  도시      급여   부서\n",
       "0  김철수  25  서울  3630.0   개발\n",
       "1  이영희  30  부산  4235.0  마케팅\n",
       "2  박민수  35  대구  4840.0   영업\n",
       "3  최수진  28  서울  3872.0   개발\n",
       "4  정다은  32  광주  4598.0   인사"
      ]
     },
     "execution_count": 17,
     "metadata": {},
     "output_type": "execute_result"
    }
   ],
   "source": [
    "df_copy"
   ]
  },
  {
   "cell_type": "code",
   "execution_count": 18,
   "id": "442756a4ed8c6528",
   "metadata": {
    "ExecuteTime": {
     "end_time": "2025-08-17T02:35:21.410063Z",
     "start_time": "2025-08-17T02:35:21.406315Z"
    }
   },
   "outputs": [],
   "source": [
    "new_person = {\n",
    "    \"이름\": \"홍길동\",\n",
    "    \"나이\": 27,\n",
    "    \"도시\": \"인천\",\n",
    "    \"급여\": 3300,\n",
    "    \"부서\": \"디자인\",\n",
    "}\n",
    "df_copy = pd.concat([df_copy, pd.DataFrame([new_person])], ignore_index=True)"
   ]
  },
  {
   "cell_type": "code",
   "execution_count": 19,
   "id": "7a6b4fe2be86f104",
   "metadata": {
    "ExecuteTime": {
     "end_time": "2025-08-17T02:35:24.969889Z",
     "start_time": "2025-08-17T02:35:24.965778Z"
    }
   },
   "outputs": [
    {
     "data": {
      "text/html": [
       "<div>\n",
       "<style scoped>\n",
       "    .dataframe tbody tr th:only-of-type {\n",
       "        vertical-align: middle;\n",
       "    }\n",
       "\n",
       "    .dataframe tbody tr th {\n",
       "        vertical-align: top;\n",
       "    }\n",
       "\n",
       "    .dataframe thead th {\n",
       "        text-align: right;\n",
       "    }\n",
       "</style>\n",
       "<table border=\"1\" class=\"dataframe\">\n",
       "  <thead>\n",
       "    <tr style=\"text-align: right;\">\n",
       "      <th></th>\n",
       "      <th>이름</th>\n",
       "      <th>나이</th>\n",
       "      <th>도시</th>\n",
       "      <th>급여</th>\n",
       "      <th>부서</th>\n",
       "    </tr>\n",
       "  </thead>\n",
       "  <tbody>\n",
       "    <tr>\n",
       "      <th>0</th>\n",
       "      <td>김철수</td>\n",
       "      <td>25</td>\n",
       "      <td>서울</td>\n",
       "      <td>3630.0</td>\n",
       "      <td>개발</td>\n",
       "    </tr>\n",
       "    <tr>\n",
       "      <th>1</th>\n",
       "      <td>이영희</td>\n",
       "      <td>30</td>\n",
       "      <td>부산</td>\n",
       "      <td>4235.0</td>\n",
       "      <td>마케팅</td>\n",
       "    </tr>\n",
       "    <tr>\n",
       "      <th>2</th>\n",
       "      <td>박민수</td>\n",
       "      <td>35</td>\n",
       "      <td>대구</td>\n",
       "      <td>4840.0</td>\n",
       "      <td>영업</td>\n",
       "    </tr>\n",
       "    <tr>\n",
       "      <th>3</th>\n",
       "      <td>최수진</td>\n",
       "      <td>28</td>\n",
       "      <td>서울</td>\n",
       "      <td>3872.0</td>\n",
       "      <td>개발</td>\n",
       "    </tr>\n",
       "    <tr>\n",
       "      <th>4</th>\n",
       "      <td>정다은</td>\n",
       "      <td>32</td>\n",
       "      <td>광주</td>\n",
       "      <td>4598.0</td>\n",
       "      <td>인사</td>\n",
       "    </tr>\n",
       "    <tr>\n",
       "      <th>5</th>\n",
       "      <td>홍길동</td>\n",
       "      <td>27</td>\n",
       "      <td>인천</td>\n",
       "      <td>3300.0</td>\n",
       "      <td>디자인</td>\n",
       "    </tr>\n",
       "  </tbody>\n",
       "</table>\n",
       "</div>"
      ],
      "text/plain": [
       "    이름  나이  도시      급여   부서\n",
       "0  김철수  25  서울  3630.0   개발\n",
       "1  이영희  30  부산  4235.0  마케팅\n",
       "2  박민수  35  대구  4840.0   영업\n",
       "3  최수진  28  서울  3872.0   개발\n",
       "4  정다은  32  광주  4598.0   인사\n",
       "5  홍길동  27  인천  3300.0  디자인"
      ]
     },
     "execution_count": 19,
     "metadata": {},
     "output_type": "execute_result"
    }
   ],
   "source": [
    "df_copy"
   ]
  },
  {
   "cell_type": "code",
   "execution_count": 20,
   "id": "176f6e7a6e6eafec",
   "metadata": {
    "ExecuteTime": {
     "end_time": "2025-08-17T02:35:54.495314Z",
     "start_time": "2025-08-17T02:35:54.489097Z"
    }
   },
   "outputs": [
    {
     "name": "stdout",
     "output_type": "stream",
     "text": [
      "나이순 정렬 (오름차순):\n"
     ]
    },
    {
     "data": {
      "text/html": [
       "<div>\n",
       "<style scoped>\n",
       "    .dataframe tbody tr th:only-of-type {\n",
       "        vertical-align: middle;\n",
       "    }\n",
       "\n",
       "    .dataframe tbody tr th {\n",
       "        vertical-align: top;\n",
       "    }\n",
       "\n",
       "    .dataframe thead th {\n",
       "        text-align: right;\n",
       "    }\n",
       "</style>\n",
       "<table border=\"1\" class=\"dataframe\">\n",
       "  <thead>\n",
       "    <tr style=\"text-align: right;\">\n",
       "      <th></th>\n",
       "      <th>이름</th>\n",
       "      <th>나이</th>\n",
       "      <th>도시</th>\n",
       "      <th>급여</th>\n",
       "    </tr>\n",
       "  </thead>\n",
       "  <tbody>\n",
       "    <tr>\n",
       "      <th>0</th>\n",
       "      <td>김철수</td>\n",
       "      <td>25</td>\n",
       "      <td>서울</td>\n",
       "      <td>3000</td>\n",
       "    </tr>\n",
       "    <tr>\n",
       "      <th>3</th>\n",
       "      <td>최수진</td>\n",
       "      <td>28</td>\n",
       "      <td>서울</td>\n",
       "      <td>3200</td>\n",
       "    </tr>\n",
       "    <tr>\n",
       "      <th>1</th>\n",
       "      <td>이영희</td>\n",
       "      <td>30</td>\n",
       "      <td>부산</td>\n",
       "      <td>3500</td>\n",
       "    </tr>\n",
       "    <tr>\n",
       "      <th>4</th>\n",
       "      <td>정다은</td>\n",
       "      <td>32</td>\n",
       "      <td>광주</td>\n",
       "      <td>3800</td>\n",
       "    </tr>\n",
       "    <tr>\n",
       "      <th>2</th>\n",
       "      <td>박민수</td>\n",
       "      <td>35</td>\n",
       "      <td>대구</td>\n",
       "      <td>4000</td>\n",
       "    </tr>\n",
       "  </tbody>\n",
       "</table>\n",
       "</div>"
      ],
      "text/plain": [
       "    이름  나이  도시    급여\n",
       "0  김철수  25  서울  3000\n",
       "3  최수진  28  서울  3200\n",
       "1  이영희  30  부산  3500\n",
       "4  정다은  32  광주  3800\n",
       "2  박민수  35  대구  4000"
      ]
     },
     "execution_count": 20,
     "metadata": {},
     "output_type": "execute_result"
    }
   ],
   "source": [
    "print(\"나이순 정렬 (오름차순):\")\n",
    "df.sort_values(\"나이\")"
   ]
  },
  {
   "cell_type": "code",
   "execution_count": 21,
   "id": "72c3fa7c53a9d103",
   "metadata": {
    "ExecuteTime": {
     "end_time": "2025-08-17T02:36:12.265252Z",
     "start_time": "2025-08-17T02:36:12.259441Z"
    }
   },
   "outputs": [
    {
     "name": "stdout",
     "output_type": "stream",
     "text": [
      "나이순 정렬 (오름차순):\n"
     ]
    },
    {
     "data": {
      "text/html": [
       "<div>\n",
       "<style scoped>\n",
       "    .dataframe tbody tr th:only-of-type {\n",
       "        vertical-align: middle;\n",
       "    }\n",
       "\n",
       "    .dataframe tbody tr th {\n",
       "        vertical-align: top;\n",
       "    }\n",
       "\n",
       "    .dataframe thead th {\n",
       "        text-align: right;\n",
       "    }\n",
       "</style>\n",
       "<table border=\"1\" class=\"dataframe\">\n",
       "  <thead>\n",
       "    <tr style=\"text-align: right;\">\n",
       "      <th></th>\n",
       "      <th>이름</th>\n",
       "      <th>나이</th>\n",
       "      <th>도시</th>\n",
       "      <th>급여</th>\n",
       "    </tr>\n",
       "  </thead>\n",
       "  <tbody>\n",
       "    <tr>\n",
       "      <th>2</th>\n",
       "      <td>박민수</td>\n",
       "      <td>35</td>\n",
       "      <td>대구</td>\n",
       "      <td>4000</td>\n",
       "    </tr>\n",
       "    <tr>\n",
       "      <th>4</th>\n",
       "      <td>정다은</td>\n",
       "      <td>32</td>\n",
       "      <td>광주</td>\n",
       "      <td>3800</td>\n",
       "    </tr>\n",
       "    <tr>\n",
       "      <th>1</th>\n",
       "      <td>이영희</td>\n",
       "      <td>30</td>\n",
       "      <td>부산</td>\n",
       "      <td>3500</td>\n",
       "    </tr>\n",
       "    <tr>\n",
       "      <th>3</th>\n",
       "      <td>최수진</td>\n",
       "      <td>28</td>\n",
       "      <td>서울</td>\n",
       "      <td>3200</td>\n",
       "    </tr>\n",
       "    <tr>\n",
       "      <th>0</th>\n",
       "      <td>김철수</td>\n",
       "      <td>25</td>\n",
       "      <td>서울</td>\n",
       "      <td>3000</td>\n",
       "    </tr>\n",
       "  </tbody>\n",
       "</table>\n",
       "</div>"
      ],
      "text/plain": [
       "    이름  나이  도시    급여\n",
       "2  박민수  35  대구  4000\n",
       "4  정다은  32  광주  3800\n",
       "1  이영희  30  부산  3500\n",
       "3  최수진  28  서울  3200\n",
       "0  김철수  25  서울  3000"
      ]
     },
     "execution_count": 21,
     "metadata": {},
     "output_type": "execute_result"
    }
   ],
   "source": [
    "print(\"나이순 정렬 (오름차순):\")\n",
    "df.sort_values(\"나이\", ascending=False)"
   ]
  },
  {
   "cell_type": "code",
   "execution_count": 22,
   "id": "633c60d662a9c746",
   "metadata": {
    "ExecuteTime": {
     "end_time": "2025-08-17T02:36:24.438437Z",
     "start_time": "2025-08-17T02:36:24.429803Z"
    }
   },
   "outputs": [
    {
     "data": {
      "text/html": [
       "<div>\n",
       "<style scoped>\n",
       "    .dataframe tbody tr th:only-of-type {\n",
       "        vertical-align: middle;\n",
       "    }\n",
       "\n",
       "    .dataframe tbody tr th {\n",
       "        vertical-align: top;\n",
       "    }\n",
       "\n",
       "    .dataframe thead th {\n",
       "        text-align: right;\n",
       "    }\n",
       "</style>\n",
       "<table border=\"1\" class=\"dataframe\">\n",
       "  <thead>\n",
       "    <tr style=\"text-align: right;\">\n",
       "      <th></th>\n",
       "      <th>이름</th>\n",
       "      <th>나이</th>\n",
       "      <th>도시</th>\n",
       "      <th>급여</th>\n",
       "    </tr>\n",
       "  </thead>\n",
       "  <tbody>\n",
       "    <tr>\n",
       "      <th>4</th>\n",
       "      <td>정다은</td>\n",
       "      <td>32</td>\n",
       "      <td>광주</td>\n",
       "      <td>3800</td>\n",
       "    </tr>\n",
       "    <tr>\n",
       "      <th>2</th>\n",
       "      <td>박민수</td>\n",
       "      <td>35</td>\n",
       "      <td>대구</td>\n",
       "      <td>4000</td>\n",
       "    </tr>\n",
       "    <tr>\n",
       "      <th>1</th>\n",
       "      <td>이영희</td>\n",
       "      <td>30</td>\n",
       "      <td>부산</td>\n",
       "      <td>3500</td>\n",
       "    </tr>\n",
       "    <tr>\n",
       "      <th>0</th>\n",
       "      <td>김철수</td>\n",
       "      <td>25</td>\n",
       "      <td>서울</td>\n",
       "      <td>3000</td>\n",
       "    </tr>\n",
       "    <tr>\n",
       "      <th>3</th>\n",
       "      <td>최수진</td>\n",
       "      <td>28</td>\n",
       "      <td>서울</td>\n",
       "      <td>3200</td>\n",
       "    </tr>\n",
       "  </tbody>\n",
       "</table>\n",
       "</div>"
      ],
      "text/plain": [
       "    이름  나이  도시    급여\n",
       "4  정다은  32  광주  3800\n",
       "2  박민수  35  대구  4000\n",
       "1  이영희  30  부산  3500\n",
       "0  김철수  25  서울  3000\n",
       "3  최수진  28  서울  3200"
      ]
     },
     "execution_count": 22,
     "metadata": {},
     "output_type": "execute_result"
    }
   ],
   "source": [
    "df.sort_values([\"도시\", \"나이\"])"
   ]
  },
  {
   "cell_type": "code",
   "execution_count": 23,
   "id": "8bd94586d261de04",
   "metadata": {
    "ExecuteTime": {
     "end_time": "2025-08-17T02:37:22.801482Z",
     "start_time": "2025-08-17T02:37:22.793765Z"
    }
   },
   "outputs": [
    {
     "data": {
      "text/plain": [
       "도시\n",
       "광주    32.0\n",
       "대구    35.0\n",
       "부산    30.0\n",
       "서울    26.5\n",
       "Name: 나이, dtype: float64"
      ]
     },
     "execution_count": 23,
     "metadata": {},
     "output_type": "execute_result"
    }
   ],
   "source": [
    "df.groupby(\"도시\")[\"나이\"].mean()"
   ]
  },
  {
   "cell_type": "code",
   "execution_count": 27,
   "id": "5c5e132dff458a55",
   "metadata": {
    "ExecuteTime": {
     "end_time": "2025-08-17T02:40:47.580605Z",
     "start_time": "2025-08-17T02:40:47.571823Z"
    }
   },
   "outputs": [
    {
     "data": {
      "text/html": [
       "<div>\n",
       "<style scoped>\n",
       "    .dataframe tbody tr th:only-of-type {\n",
       "        vertical-align: middle;\n",
       "    }\n",
       "\n",
       "    .dataframe tbody tr th {\n",
       "        vertical-align: top;\n",
       "    }\n",
       "\n",
       "    .dataframe thead tr th {\n",
       "        text-align: left;\n",
       "    }\n",
       "\n",
       "    .dataframe thead tr:last-of-type th {\n",
       "        text-align: right;\n",
       "    }\n",
       "</style>\n",
       "<table border=\"1\" class=\"dataframe\">\n",
       "  <thead>\n",
       "    <tr>\n",
       "      <th></th>\n",
       "      <th>나이</th>\n",
       "      <th colspan=\"3\" halign=\"left\">급여</th>\n",
       "    </tr>\n",
       "    <tr>\n",
       "      <th></th>\n",
       "      <th>mean</th>\n",
       "      <th>mean</th>\n",
       "      <th>max</th>\n",
       "      <th>min</th>\n",
       "    </tr>\n",
       "    <tr>\n",
       "      <th>도시</th>\n",
       "      <th></th>\n",
       "      <th></th>\n",
       "      <th></th>\n",
       "      <th></th>\n",
       "    </tr>\n",
       "  </thead>\n",
       "  <tbody>\n",
       "    <tr>\n",
       "      <th>광주</th>\n",
       "      <td>32.0</td>\n",
       "      <td>3800.0</td>\n",
       "      <td>3800</td>\n",
       "      <td>3800</td>\n",
       "    </tr>\n",
       "    <tr>\n",
       "      <th>대구</th>\n",
       "      <td>35.0</td>\n",
       "      <td>4000.0</td>\n",
       "      <td>4000</td>\n",
       "      <td>4000</td>\n",
       "    </tr>\n",
       "    <tr>\n",
       "      <th>부산</th>\n",
       "      <td>30.0</td>\n",
       "      <td>3500.0</td>\n",
       "      <td>3500</td>\n",
       "      <td>3500</td>\n",
       "    </tr>\n",
       "    <tr>\n",
       "      <th>서울</th>\n",
       "      <td>26.5</td>\n",
       "      <td>3100.0</td>\n",
       "      <td>3200</td>\n",
       "      <td>3000</td>\n",
       "    </tr>\n",
       "  </tbody>\n",
       "</table>\n",
       "</div>"
      ],
      "text/plain": [
       "      나이      급여            \n",
       "    mean    mean   max   min\n",
       "도시                          \n",
       "광주  32.0  3800.0  3800  3800\n",
       "대구  35.0  4000.0  4000  4000\n",
       "부산  30.0  3500.0  3500  3500\n",
       "서울  26.5  3100.0  3200  3000"
      ]
     },
     "execution_count": 27,
     "metadata": {},
     "output_type": "execute_result"
    }
   ],
   "source": [
    "df.groupby(\"도시\").agg({\"나이\": \"mean\", \"급여\": [\"mean\", \"max\", \"min\"]})"
   ]
  },
  {
   "cell_type": "code",
   "execution_count": 26,
   "id": "d78451a375a7b9a7",
   "metadata": {
    "ExecuteTime": {
     "end_time": "2025-08-17T02:40:38.661040Z",
     "start_time": "2025-08-17T02:40:38.657377Z"
    }
   },
   "outputs": [
    {
     "data": {
      "text/plain": [
       "array(['서울', '부산', '대구', '광주'], dtype=object)"
      ]
     },
     "execution_count": 26,
     "metadata": {},
     "output_type": "execute_result"
    }
   ],
   "source": [
    "df[\"도시\"].unique()"
   ]
  },
  {
   "cell_type": "code",
   "execution_count": 28,
   "id": "c60c536d8e60306b",
   "metadata": {
    "ExecuteTime": {
     "end_time": "2025-08-17T02:41:22.032227Z",
     "start_time": "2025-08-17T02:41:22.029477Z"
    }
   },
   "outputs": [
    {
     "data": {
      "text/plain": [
       "도시\n",
       "서울    2\n",
       "부산    1\n",
       "대구    1\n",
       "광주    1\n",
       "Name: count, dtype: int64"
      ]
     },
     "execution_count": 28,
     "metadata": {},
     "output_type": "execute_result"
    }
   ],
   "source": [
    "df[\"도시\"].value_counts(dropna=False)"
   ]
  },
  {
   "cell_type": "code",
   "execution_count": 32,
   "id": "ff2888e432c3afb9",
   "metadata": {
    "ExecuteTime": {
     "end_time": "2025-08-17T02:44:09.676155Z",
     "start_time": "2025-08-17T02:44:09.673252Z"
    }
   },
   "outputs": [],
   "source": [
    "df.to_csv(\"sample_data.csv\", index=False, encoding=\"utf-8\")"
   ]
  },
  {
   "cell_type": "code",
   "execution_count": 33,
   "id": "79ae67b3bd49dd4b",
   "metadata": {
    "ExecuteTime": {
     "end_time": "2025-08-17T02:45:02.355080Z",
     "start_time": "2025-08-17T02:45:02.192895Z"
    }
   },
   "outputs": [],
   "source": [
    "df.to_excel(\"sample_data.xlsx\", index=False)"
   ]
  },
  {
   "cell_type": "code",
   "execution_count": 34,
   "id": "2b3736d902012868",
   "metadata": {
    "ExecuteTime": {
     "end_time": "2025-08-17T02:47:17.165886Z",
     "start_time": "2025-08-17T02:47:17.163515Z"
    }
   },
   "outputs": [],
   "source": [
    "import numpy as np\n",
    "\n",
    "python_list = [1, 2, 3, 4, 5]\n",
    "numpy_array = np.array([1, 2, 3, 4, 5])"
   ]
  },
  {
   "cell_type": "code",
   "execution_count": 35,
   "id": "59068ded5026b218",
   "metadata": {
    "ExecuteTime": {
     "end_time": "2025-08-17T02:47:21.420193Z",
     "start_time": "2025-08-17T02:47:21.417422Z"
    }
   },
   "outputs": [
    {
     "data": {
      "text/plain": [
       "array([1, 2, 3, 4, 5])"
      ]
     },
     "execution_count": 35,
     "metadata": {},
     "output_type": "execute_result"
    }
   ],
   "source": [
    "numpy_array"
   ]
  },
  {
   "cell_type": "code",
   "execution_count": 36,
   "id": "e9bfaf22022d38d5",
   "metadata": {
    "ExecuteTime": {
     "end_time": "2025-08-17T02:47:25.225964Z",
     "start_time": "2025-08-17T02:47:25.223798Z"
    }
   },
   "outputs": [
    {
     "data": {
      "text/plain": [
       "numpy.ndarray"
      ]
     },
     "execution_count": 36,
     "metadata": {},
     "output_type": "execute_result"
    }
   ],
   "source": [
    "type(numpy_array)"
   ]
  },
  {
   "cell_type": "code",
   "execution_count": 38,
   "id": "45ca1939f22e58f3",
   "metadata": {
    "ExecuteTime": {
     "end_time": "2025-08-17T02:48:03.262319Z",
     "start_time": "2025-08-17T02:48:03.259949Z"
    }
   },
   "outputs": [
    {
     "name": "stdout",
     "output_type": "stream",
     "text": [
      "1차원 배열: [1 2 3 4 5]\n",
      "2차원 배열:\n",
      "[[1 2 3]\n",
      " [4 5 6]]\n"
     ]
    }
   ],
   "source": [
    "# 2-1. 리스트로부터 생성\n",
    "arr1 = np.array([1, 2, 3, 4, 5])\n",
    "print(\"1차원 배열:\", arr1)\n",
    "\n",
    "# 2-2. 2차원 배열 생성\n",
    "arr2d = np.array([[1, 2, 3], [4, 5, 6]])\n",
    "print(\"2차원 배열:\")\n",
    "print(arr2d)"
   ]
  },
  {
   "cell_type": "code",
   "execution_count": 39,
   "id": "abdf40073b3f5e02",
   "metadata": {
    "ExecuteTime": {
     "end_time": "2025-08-17T02:48:05.196638Z",
     "start_time": "2025-08-17T02:48:05.194056Z"
    }
   },
   "outputs": [
    {
     "name": "stdout",
     "output_type": "stream",
     "text": [
      "3차원 배열:\n",
      "[[[1 2]\n",
      "  [3 4]]\n",
      "\n",
      " [[5 6]\n",
      "  [7 8]]]\n",
      "\n"
     ]
    }
   ],
   "source": [
    "arr3d = np.array([[[1, 2], [3, 4]], [[5, 6], [7, 8]]])\n",
    "print(\"3차원 배열:\")\n",
    "print(arr3d)\n",
    "print()"
   ]
  },
  {
   "cell_type": "code",
   "execution_count": 40,
   "id": "86c2cb6134fbeb3a",
   "metadata": {
    "ExecuteTime": {
     "end_time": "2025-08-17T02:48:22.514018Z",
     "start_time": "2025-08-17T02:48:22.512044Z"
    }
   },
   "outputs": [],
   "source": [
    "zeros = np.zeros(5)"
   ]
  },
  {
   "cell_type": "code",
   "execution_count": 41,
   "id": "5702a584ab9e1eaa",
   "metadata": {
    "ExecuteTime": {
     "end_time": "2025-08-17T02:48:25.078129Z",
     "start_time": "2025-08-17T02:48:25.076057Z"
    }
   },
   "outputs": [
    {
     "data": {
      "text/plain": [
       "array([0., 0., 0., 0., 0.])"
      ]
     },
     "execution_count": 41,
     "metadata": {},
     "output_type": "execute_result"
    }
   ],
   "source": [
    "zeros"
   ]
  },
  {
   "cell_type": "code",
   "execution_count": 42,
   "id": "369e84d2567d3e05",
   "metadata": {
    "ExecuteTime": {
     "end_time": "2025-08-17T02:48:48.214725Z",
     "start_time": "2025-08-17T02:48:48.212359Z"
    }
   },
   "outputs": [
    {
     "data": {
      "text/plain": [
       "array([[1., 0., 0.],\n",
       "       [0., 1., 0.],\n",
       "       [0., 0., 1.]])"
      ]
     },
     "execution_count": 42,
     "metadata": {},
     "output_type": "execute_result"
    }
   ],
   "source": [
    "identity = np.eye(3)\n",
    "identity"
   ]
  },
  {
   "cell_type": "code",
   "execution_count": 43,
   "id": "5da0270ceecca3b5",
   "metadata": {
    "ExecuteTime": {
     "end_time": "2025-08-17T02:49:45.599909Z",
     "start_time": "2025-08-17T02:49:45.596851Z"
    }
   },
   "outputs": [
    {
     "data": {
      "text/plain": [
       "array([0, 2, 4, 6, 8])"
      ]
     },
     "execution_count": 43,
     "metadata": {},
     "output_type": "execute_result"
    }
   ],
   "source": [
    "arange_arr = np.arange(0, 10, 2)\n",
    "arange_arr"
   ]
  },
  {
   "cell_type": "code",
   "execution_count": 44,
   "id": "1e42b15d877dfdb",
   "metadata": {
    "ExecuteTime": {
     "end_time": "2025-08-17T02:50:05.908086Z",
     "start_time": "2025-08-17T02:50:05.905871Z"
    }
   },
   "outputs": [
    {
     "data": {
      "text/plain": [
       "array([0.  , 0.25, 0.5 , 0.75, 1.  ])"
      ]
     },
     "execution_count": 44,
     "metadata": {},
     "output_type": "execute_result"
    }
   ],
   "source": [
    "linspace_arr = np.linspace(0, 1, 5)\n",
    "linspace_arr"
   ]
  },
  {
   "cell_type": "code",
   "execution_count": 45,
   "id": "3826248b1c945add",
   "metadata": {
    "ExecuteTime": {
     "end_time": "2025-08-17T02:50:29.978804Z",
     "start_time": "2025-08-17T02:50:29.975949Z"
    }
   },
   "outputs": [
    {
     "data": {
      "text/plain": [
       "array([0.68167314, 0.4176772 , 0.2419684 , 0.40369801, 0.01643134])"
      ]
     },
     "execution_count": 45,
     "metadata": {},
     "output_type": "execute_result"
    }
   ],
   "source": [
    "random_arr = np.random.random(5)\n",
    "random_arr"
   ]
  },
  {
   "cell_type": "code",
   "execution_count": 46,
   "id": "f7bb5ee42024da99",
   "metadata": {
    "ExecuteTime": {
     "end_time": "2025-08-17T02:51:10.318814Z",
     "start_time": "2025-08-17T02:51:10.314953Z"
    }
   },
   "outputs": [
    {
     "name": "stdout",
     "output_type": "stream",
     "text": [
      "배열:\n",
      "[[ 1  2  3  4]\n",
      " [ 5  6  7  8]\n",
      " [ 9 10 11 12]]\n",
      "차원 (ndim): 2\n",
      "모양 (shape): (3, 4)\n",
      "크기 (size): 12\n",
      "데이터 타입 (dtype): int64\n",
      "각 원소 크기 (itemsize): 8 bytes\n"
     ]
    }
   ],
   "source": [
    "sample_array = np.array([[1, 2, 3, 4], [5, 6, 7, 8], [9, 10, 11, 12]])\n",
    "\n",
    "print(\"배열:\")\n",
    "print(sample_array)\n",
    "print(f\"차원 (ndim): {sample_array.ndim}\")\n",
    "print(f\"모양 (shape): {sample_array.shape}\")  # (행, 열)\n",
    "print(f\"크기 (size): {sample_array.size}\")  # 전체 원소 개수\n",
    "print(f\"데이터 타입 (dtype): {sample_array.dtype}\")\n",
    "print(f\"각 원소 크기 (itemsize): {sample_array.itemsize} bytes\")"
   ]
  },
  {
   "cell_type": "code",
   "execution_count": 47,
   "id": "71e4ded1fa98b90f",
   "metadata": {
    "ExecuteTime": {
     "end_time": "2025-08-17T02:51:43.967558Z",
     "start_time": "2025-08-17T02:51:43.964976Z"
    }
   },
   "outputs": [
    {
     "name": "stdout",
     "output_type": "stream",
     "text": [
      "정수형 배열: [1 2 3] int32\n",
      "실수형 배열: [1. 2. 3.] float64\n"
     ]
    }
   ],
   "source": [
    "# 데이터 타입 지정\n",
    "int_array = np.array([1, 2, 3], dtype=np.int32)\n",
    "float_array = np.array([1, 2, 3], dtype=np.float64)\n",
    "print(\"정수형 배열:\", int_array, int_array.dtype)\n",
    "print(\"실수형 배열:\", float_array, float_array.dtype)"
   ]
  },
  {
   "cell_type": "code",
   "execution_count": 48,
   "id": "82f60ff8da030bf4",
   "metadata": {
    "ExecuteTime": {
     "end_time": "2025-08-17T02:52:42.655679Z",
     "start_time": "2025-08-17T02:52:42.651829Z"
    }
   },
   "outputs": [
    {
     "name": "stdout",
     "output_type": "stream",
     "text": [
      "원본 배열: [0 1 2 3 4 5 6 7 8 9]\n",
      "첫 번째 원소: 0\n",
      "마지막 원소: 9\n",
      "처음 5개: [0 1 2 3 4]\n",
      "3번째부터 7번째까지: [3 4 5 6 7]\n",
      "짝수 인덱스: [0 2 4 6 8]\n",
      "역순: [9 8 7 6 5 4 3 2 1 0]\n",
      "\n"
     ]
    }
   ],
   "source": [
    "arr = np.array([0, 1, 2, 3, 4, 5, 6, 7, 8, 9])\n",
    "\n",
    "# 기본 인덱싱\n",
    "print(\"원본 배열:\", arr)\n",
    "print(\"첫 번째 원소:\", arr[0])\n",
    "print(\"마지막 원소:\", arr[-1])\n",
    "\n",
    "# 슬라이싱\n",
    "print(\"처음 5개:\", arr[:5])\n",
    "print(\"3번째부터 7번째까지:\", arr[3:8])\n",
    "print(\"짝수 인덱스:\", arr[::2])\n",
    "print(\"역순:\", arr[::-1])\n",
    "print()"
   ]
  },
  {
   "cell_type": "code",
   "execution_count": 49,
   "id": "a588b7b6892fa60d",
   "metadata": {
    "ExecuteTime": {
     "end_time": "2025-08-17T02:53:13.706677Z",
     "start_time": "2025-08-17T02:53:13.703038Z"
    }
   },
   "outputs": [
    {
     "name": "stdout",
     "output_type": "stream",
     "text": [
      "2차원 배열:\n",
      "[[1 2 3]\n",
      " [4 5 6]\n",
      " [7 8 9]]\n",
      "첫 번째 행: [1 2 3]\n",
      "첫 번째 열: [1 4 7]\n",
      "특정 원소 (1행 2열): 6\n",
      "부분 행렬: [[2 3]\n",
      " [5 6]]\n"
     ]
    }
   ],
   "source": [
    "arr2d = np.array([[1, 2, 3], [4, 5, 6], [7, 8, 9]])\n",
    "print(\"2차원 배열:\")\n",
    "print(arr2d)\n",
    "print(\"첫 번째 행:\", arr2d[0])\n",
    "print(\"첫 번째 열:\", arr2d[:, 0])\n",
    "print(\"특정 원소 (1행 2열):\", arr2d[1, 2])\n",
    "print(\"부분 행렬:\", arr2d[0:2, 1:3])"
   ]
  },
  {
   "cell_type": "code",
   "execution_count": 50,
   "id": "91436400a8df2afb",
   "metadata": {
    "ExecuteTime": {
     "end_time": "2025-08-17T02:54:35.529550Z",
     "start_time": "2025-08-17T02:54:35.525440Z"
    }
   },
   "outputs": [
    {
     "name": "stdout",
     "output_type": "stream",
     "text": [
      "배열 a: [1 2 3 4]\n",
      "배열 b: [5 6 7 8]\n",
      "덧셈 (a + b): [ 6  8 10 12]\n",
      "뺄셈 (a - b): [-4 -4 -4 -4]\n",
      "곱셈 (a * b): [ 5 12 21 32]\n",
      "나눗셈 (a / b): [0.2        0.33333333 0.42857143 0.5       ]\n",
      "거듭제곱 (a ** 2): [ 1  4  9 16]\n"
     ]
    }
   ],
   "source": [
    "a = np.array([1, 2, 3, 4])\n",
    "b = np.array([5, 6, 7, 8])\n",
    "\n",
    "print(\"배열 a:\", a)\n",
    "print(\"배열 b:\", b)\n",
    "\n",
    "# 기본 산술 연산\n",
    "print(\"덧셈 (a + b):\", a + b)\n",
    "print(\"뺄셈 (a - b):\", a - b)\n",
    "print(\"곱셈 (a * b):\", a * b)\n",
    "print(\"나눗셈 (a / b):\", a / b)\n",
    "print(\"거듭제곱 (a ** 2):\", a**2)"
   ]
  },
  {
   "cell_type": "code",
   "execution_count": 51,
   "id": "ba61522adb6b8f50",
   "metadata": {
    "ExecuteTime": {
     "end_time": "2025-08-17T02:55:05.801085Z",
     "start_time": "2025-08-17T02:55:05.798967Z"
    }
   },
   "outputs": [
    {
     "name": "stdout",
     "output_type": "stream",
     "text": [
      "스칼라와의 연산:\n",
      "a + 10: [11 12 13 14]\n",
      "a * 2: [2 4 6 8]\n"
     ]
    }
   ],
   "source": [
    "# 스칼라와의 연산 (브로드캐스팅)\n",
    "print(\"스칼라와의 연산:\")\n",
    "print(\"a + 10:\", a + 10)\n",
    "print(\"a * 2:\", a * 2)"
   ]
  },
  {
   "cell_type": "code",
   "execution_count": 52,
   "id": "6074214cde8e63d7",
   "metadata": {
    "ExecuteTime": {
     "end_time": "2025-08-17T02:55:08.831202Z",
     "start_time": "2025-08-17T02:55:08.828805Z"
    }
   },
   "outputs": [
    {
     "name": "stdout",
     "output_type": "stream",
     "text": [
      "비교 연산:\n",
      "a > 2: [False False  True  True]\n",
      "a == 3: [False False  True False]\n"
     ]
    }
   ],
   "source": [
    "# 비교 연산\n",
    "print(\"비교 연산:\")\n",
    "print(\"a > 2:\", a > 2)\n",
    "print(\"a == 3:\", a == 3)"
   ]
  },
  {
   "cell_type": "code",
   "execution_count": 53,
   "id": "fb536100092b1dc7",
   "metadata": {
    "ExecuteTime": {
     "end_time": "2025-08-17T02:56:24.838911Z",
     "start_time": "2025-08-17T02:56:24.835445Z"
    }
   },
   "outputs": [
    {
     "name": "stdout",
     "output_type": "stream",
     "text": [
      "원본 데이터: [ 1  4  9 16 25]\n",
      "제곱근: [1. 2. 3. 4. 5.]\n",
      "로그: [0.         1.38629436 2.19722458 2.77258872 3.21887582]\n",
      "지수: [ 2.71828183  7.3890561  20.08553692]\n"
     ]
    }
   ],
   "source": [
    "data = np.array([1, 4, 9, 16, 25])\n",
    "print(\"원본 데이터:\", data)\n",
    "\n",
    "# 기본 수학 함수\n",
    "print(\"제곱근:\", np.sqrt(data))\n",
    "print(\"로그:\", np.log(data))\n",
    "print(\"지수:\", np.exp(np.array([1, 2, 3])))"
   ]
  },
  {
   "cell_type": "code",
   "execution_count": 54,
   "id": "bac24b9d2dc976d1",
   "metadata": {
    "ExecuteTime": {
     "end_time": "2025-08-17T02:56:30.475528Z",
     "start_time": "2025-08-17T02:56:30.473043Z"
    }
   },
   "outputs": [
    {
     "name": "stdout",
     "output_type": "stream",
     "text": [
      "각도: [0.         0.52359878 0.78539816 1.04719755 1.57079633]\n",
      "sin 값: [0.         0.5        0.70710678 0.8660254  1.        ]\n",
      "cos 값: [1.00000000e+00 8.66025404e-01 7.07106781e-01 5.00000000e-01\n",
      " 6.12323400e-17]\n"
     ]
    }
   ],
   "source": [
    "# 삼각함수\n",
    "angles = np.array([0, np.pi / 6, np.pi / 4, np.pi / 3, np.pi / 2])\n",
    "print(\"각도:\", angles)\n",
    "print(\"sin 값:\", np.sin(angles))\n",
    "print(\"cos 값:\", np.cos(angles))"
   ]
  },
  {
   "cell_type": "code",
   "execution_count": 55,
   "id": "f37cbd9ab1a34d71",
   "metadata": {
    "ExecuteTime": {
     "end_time": "2025-08-17T02:56:33.702237Z",
     "start_time": "2025-08-17T02:56:33.699154Z"
    }
   },
   "outputs": [
    {
     "name": "stdout",
     "output_type": "stream",
     "text": [
      "원본: [1.2 2.7 3.1 4.9]\n",
      "반올림: [1. 3. 3. 5.]\n",
      "올림: [2. 3. 4. 5.]\n",
      "내림: [1. 2. 3. 4.]\n"
     ]
    }
   ],
   "source": [
    "# 반올림 함수\n",
    "decimal_arr = np.array([1.2, 2.7, 3.1, 4.9])\n",
    "print(\"원본:\", decimal_arr)\n",
    "print(\"반올림:\", np.round(decimal_arr))\n",
    "print(\"올림:\", np.ceil(decimal_arr))\n",
    "print(\"내림:\", np.floor(decimal_arr))"
   ]
  },
  {
   "cell_type": "code",
   "execution_count": 56,
   "id": "1184cb49b0650d97",
   "metadata": {
    "ExecuteTime": {
     "end_time": "2025-08-17T02:57:35.226535Z",
     "start_time": "2025-08-17T02:57:35.220577Z"
    }
   },
   "outputs": [
    {
     "name": "stdout",
     "output_type": "stream",
     "text": [
      "데이터:\n",
      "[[1 2 3]\n",
      " [4 5 6]\n",
      " [7 8 9]]\n",
      "합계: 45\n",
      "평균: 5.0\n",
      "중앙값: 5.0\n",
      "표준편차: 2.581988897471611\n",
      "분산: 6.666666666666667\n",
      "최댓값: 9\n",
      "최솟값: 1\n",
      "최댓값 인덱스: 8\n",
      "최솟값 인덱스: 0\n",
      "\n",
      "축별 계산:\n",
      "각 열의 합계: [12 15 18]\n",
      "각 행의 합계: [ 6 15 24]\n"
     ]
    }
   ],
   "source": [
    "data = np.array([[1, 2, 3], [4, 5, 6], [7, 8, 9]])\n",
    "print(\"데이터:\")\n",
    "print(data)\n",
    "\n",
    "print(f\"합계: {np.sum(data)}\")\n",
    "print(f\"평균: {np.mean(data)}\")\n",
    "print(f\"중앙값: {np.median(data)}\")\n",
    "print(f\"표준편차: {np.std(data)}\")\n",
    "print(f\"분산: {np.var(data)}\")\n",
    "print(f\"최댓값: {np.max(data)}\")\n",
    "print(f\"최솟값: {np.min(data)}\")\n",
    "print(f\"최댓값 인덱스: {np.argmax(data)}\")\n",
    "print(f\"최솟값 인덱스: {np.argmin(data)}\")\n",
    "\n",
    "# 축(axis)별 계산\n",
    "print(\"\\n축별 계산:\")\n",
    "print(\"각 열의 합계:\", np.sum(data, axis=0))  # 세로 방향\n",
    "print(\"각 행의 합계:\", np.sum(data, axis=1))  # 가로 방향"
   ]
  },
  {
   "cell_type": "code",
   "execution_count": 57,
   "id": "2eb26c1fa5403567",
   "metadata": {
    "ExecuteTime": {
     "end_time": "2025-08-17T02:59:13.629085Z",
     "start_time": "2025-08-17T02:59:13.625735Z"
    }
   },
   "outputs": [
    {
     "name": "stdout",
     "output_type": "stream",
     "text": [
      "원본 배열: [ 0  1  2  3  4  5  6  7  8  9 10 11]\n",
      "3x4로 변경:\n",
      "[[ 0  1  2  3]\n",
      " [ 4  5  6  7]\n",
      " [ 8  9 10 11]]\n",
      "2x2x3으로 변경:\n",
      "[[[ 0  1  2]\n",
      "  [ 3  4  5]]\n",
      "\n",
      " [[ 6  7  8]\n",
      "  [ 9 10 11]]]\n",
      "평탄화: [ 0  1  2  3  4  5  6  7  8  9 10 11]\n",
      "전치:\n",
      "[[ 0  4  8]\n",
      " [ 1  5  9]\n",
      " [ 2  6 10]\n",
      " [ 3  7 11]]\n"
     ]
    }
   ],
   "source": [
    "original = np.arange(12)\n",
    "print(\"원본 배열:\", original)\n",
    "\n",
    "# reshape: 모양 변경\n",
    "reshaped = original.reshape(3, 4)\n",
    "print(\"3x4로 변경:\")\n",
    "print(reshaped)\n",
    "\n",
    "reshaped_3d = original.reshape(2, 2, 3)\n",
    "print(\"2x2x3으로 변경:\")\n",
    "print(reshaped_3d)\n",
    "\n",
    "# flatten: 1차원으로 평탄화\n",
    "flattened = reshaped.flatten()\n",
    "print(\"평탄화:\", flattened)\n",
    "\n",
    "# transpose: 전치\n",
    "transposed = reshaped.T\n",
    "print(\"전치:\")\n",
    "print(transposed)"
   ]
  },
  {
   "cell_type": "code",
   "execution_count": 58,
   "id": "fbfaa6dcf7056883",
   "metadata": {
    "ExecuteTime": {
     "end_time": "2025-08-17T03:00:40.320717Z",
     "start_time": "2025-08-17T03:00:40.316640Z"
    }
   },
   "outputs": [
    {
     "name": "stdout",
     "output_type": "stream",
     "text": [
      "배열 합치기: [1 2 3 4 5 6]\n",
      "세로로 쌓기:\n",
      "[[1 2 3]\n",
      " [4 5 6]]\n",
      "가로로 합치기: [1 2 3 4 5 6]\n",
      "세로로 합치기:\n",
      "[[1 2 3]\n",
      " [4 5 6]]\n",
      "배열 분할: [array([0, 1]), array([2, 3]), array([4, 5]), array([6, 7])]\n"
     ]
    }
   ],
   "source": [
    "arr1 = np.array([1, 2, 3])\n",
    "arr2 = np.array([4, 5, 6])\n",
    "\n",
    "# concatenate: 배열 합치기\n",
    "combined = np.concatenate([arr1, arr2])\n",
    "print(\"배열 합치기:\", combined)\n",
    "\n",
    "# stack: 새로운 축으로 쌓기\n",
    "stacked = np.stack([arr1, arr2])\n",
    "print(\"세로로 쌓기:\")\n",
    "print(stacked)\n",
    "\n",
    "horizontal_stack = np.hstack([arr1, arr2])\n",
    "print(\"가로로 합치기:\", horizontal_stack)\n",
    "\n",
    "vertical_stack = np.vstack([arr1, arr2])\n",
    "print(\"세로로 합치기:\")\n",
    "print(vertical_stack)\n",
    "\n",
    "# split: 배열 분할\n",
    "data = np.arange(8)\n",
    "split_result = np.split(data, 4)  # 4개로 분할\n",
    "print(\"배열 분할:\", split_result)"
   ]
  },
  {
   "cell_type": "code",
   "execution_count": 59,
   "id": "bd090b5a2ab329e3",
   "metadata": {
    "ExecuteTime": {
     "end_time": "2025-08-17T03:01:53.219160Z",
     "start_time": "2025-08-17T03:01:53.215345Z"
    }
   },
   "outputs": [
    {
     "name": "stdout",
     "output_type": "stream",
     "text": [
      "원본 데이터: [1 5 3 8 2 7 4 9 6]\n",
      "5보다 큰 조건: [False False False  True False  True False  True  True]\n",
      "5보다 큰 원소들: [8 7 9 6]\n",
      "조건부 치환: [0 0 0 8 0 7 0 9 6]\n",
      "3보다 크고 8보다 작은 원소: [5 7 4 6]\n"
     ]
    }
   ],
   "source": [
    "data = np.array([1, 5, 3, 8, 2, 7, 4, 9, 6])\n",
    "print(\"원본 데이터:\", data)\n",
    "\n",
    "# 조건 만족하는 원소 선택\n",
    "condition = data > 5\n",
    "print(\"5보다 큰 조건:\", condition)\n",
    "print(\"5보다 큰 원소들:\", data[condition])\n",
    "\n",
    "# where: 조건부 값 선택\n",
    "result = np.where(data > 5, data, 0)  # 5보다 크면 원래값, 아니면 0\n",
    "print(\"조건부 치환:\", result)\n",
    "\n",
    "# 여러 조건\n",
    "complex_condition = (data > 3) & (data < 8)\n",
    "print(\"3보다 크고 8보다 작은 원소:\", data[complex_condition])"
   ]
  },
  {
   "metadata": {},
   "cell_type": "code",
   "outputs": [],
   "execution_count": null,
   "source": [
    "# 행렬 생성\n",
    "A = np.array([[1, 2], [3, 4]])\n",
    "B = np.array([[5, 6], [7, 8]])\n",
    "\n",
    "print(\"행렬 A:\")\n",
    "print(A)\n",
    "print(\"행렬 B:\")\n",
    "print(B)\n",
    "\n",
    "# 행렬 곱셈\n",
    "matrix_mult = np.dot(A, B)  # 또는 A @ B\n",
    "print(\"행렬 곱셈 (A @ B):\")\n",
    "print(matrix_mult)\n",
    "\n",
    "# 벡터 내적\n",
    "v1 = np.array([1, 2, 3])\n",
    "v2 = np.array([4, 5, 6])\n",
    "dot_product = np.dot(v1, v2)\n",
    "print(f\"벡터 내적: {dot_product}\")\n",
    "\n",
    "# 역행렬\n",
    "try:\n",
    "    A_inv = np.linalg.inv(A)\n",
    "    print(\"A의 역행렬:\")\n",
    "    print(A_inv)\n",
    "except Exception as e:\n",
    "    print(f\"err:{e} 역행렬이 존재하지 않습니다.\")"
   ],
   "id": "65679fd5c1433325"
  },
  {
   "metadata": {},
   "cell_type": "code",
   "outputs": [],
   "execution_count": null,
   "source": [
    "eigenvalues, eigenvectors = np.linalg.eig(A)\n",
    "print(\"고유값:\", eigenvalues)\n",
    "print(\"고유벡터:\")\n",
    "print(eigenvectors)"
   ],
   "id": "7def59cea46b57e3"
  },
  {
   "cell_type": "code",
   "execution_count": 62,
   "id": "8869b3b603da8c4e",
   "metadata": {
    "ExecuteTime": {
     "end_time": "2025-08-17T03:06:24.141631Z",
     "start_time": "2025-08-17T03:06:24.134559Z"
    }
   },
   "outputs": [
    {
     "name": "stdout",
     "output_type": "stream",
     "text": [
      "0~1 사이 랜덤: [0.37454012 0.95071431 0.73199394 0.59865848 0.15601864]\n",
      "정규분포 랜덤: [ 0.27904129  1.01051528 -0.58087813 -0.52516981 -0.57138017]\n",
      "정수 랜덤: [6 9 1 3 7]\n",
      "섞인 배열: [2 3 1 5 4]\n",
      "랜덤 샘플: [9 8 6 4 2]\n"
     ]
    }
   ],
   "source": [
    "# 시드 설정 (재현가능한 랜덤)\n",
    "np.random.seed(42)\n",
    "\n",
    "# 다양한 랜덤 생성\n",
    "print(\"0~1 사이 랜덤:\", np.random.random(5))\n",
    "print(\"정규분포 랜덤:\", np.random.normal(0, 1, 5))  # 평균 0, 표준편차 1\n",
    "print(\"정수 랜덤:\", np.random.randint(1, 10, 5))  # 1~9 사이 정수\n",
    "\n",
    "# 배열 섞기\n",
    "arr = np.array([1, 2, 3, 4, 5])\n",
    "np.random.shuffle(arr)\n",
    "print(\"섞인 배열:\", arr)\n",
    "\n",
    "# 랜덤 샘플링\n",
    "original = np.array([1, 2, 3, 4, 5, 6, 7, 8, 9, 10])\n",
    "sample = np.random.choice(original, 5, replace=False)  # 비복원추출\n",
    "print(\"랜덤 샘플:\", sample)"
   ]
  },
  {
   "cell_type": "code",
   "execution_count": 63,
   "id": "eddc696e7c2516bd",
   "metadata": {
    "ExecuteTime": {
     "end_time": "2025-08-17T03:07:07.526269Z",
     "start_time": "2025-08-17T03:07:07.478588Z"
    }
   },
   "outputs": [
    {
     "name": "stdout",
     "output_type": "stream",
     "text": [
      "Python 리스트 시간: 0.0243초\n",
      "NumPy 배열 시간: 0.0019초\n",
      "NumPy가 13.0배 빠름\n"
     ]
    }
   ],
   "source": [
    "import time\n",
    "\n",
    "size = 1000000\n",
    "\n",
    "# Python 리스트\n",
    "python_list = list(range(size))\n",
    "start_time = time.time()\n",
    "python_result = [x * 2 for x in python_list]\n",
    "python_time = time.time() - start_time\n",
    "\n",
    "# NumPy 배열\n",
    "numpy_array = np.arange(size)\n",
    "start_time = time.time()\n",
    "numpy_result = numpy_array * 2\n",
    "numpy_time = time.time() - start_time\n",
    "\n",
    "print(f\"Python 리스트 시간: {python_time:.4f}초\")\n",
    "print(f\"NumPy 배열 시간: {numpy_time:.4f}초\")\n",
    "print(f\"NumPy가 {python_time / numpy_time:.1f}배 빠름\")"
   ]
  },
  {
   "cell_type": "code",
   "execution_count": null,
   "id": "ca302687ff0755bf",
   "metadata": {},
   "outputs": [],
   "source": []
  }
 ],
 "metadata": {
  "kernelspec": {
   "display_name": "Python 3",
   "language": "python",
   "name": "python3"
  },
  "language_info": {
   "codemirror_mode": {
    "name": "ipython",
    "version": 2
   },
   "file_extension": ".py",
   "mimetype": "text/x-python",
   "name": "python",
   "nbconvert_exporter": "python",
   "pygments_lexer": "ipython2",
   "version": "2.7.6"
  }
 },
 "nbformat": 4,
 "nbformat_minor": 5
}
