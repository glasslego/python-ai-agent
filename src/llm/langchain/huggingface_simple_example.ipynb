{
 "cells": [
  {
   "cell_type": "code",
   "id": "initial_id",
   "metadata": {
    "collapsed": true,
    "jupyter": {
     "is_executing": true
    }
   },
   "source": [
    "from langchain_huggingface import HuggingFacePipeline\n",
    "\n",
    "\n",
    "def main():\n",
    "    # Hugging Face Hub에서 사용할 모델의 ID를 지정합니다.\n",
    "    # 'google/flan-t5-small'은 작고 가벼워서 테스트하기 좋은 모델입니다.\n",
    "    model_id = \"google/flan-t5-small\"\n",
    "\n",
    "    # LangChain을 통해 허깅페이스 모델을 LLM 객체로 만듭니다.\n",
    "    llm = HuggingFacePipeline.from_model_id(\n",
    "        model_id=model_id,\n",
    "        task=\"text2text-generation\",  # 텍스트를 입력받아 텍스트를 생성하는 작업\n",
    "        pipeline_kwargs={\"max_new_tokens\": 100},  # 답변의 최대 길이를 100 토큰으로 제한\n",
    "    )\n",
    "\n",
    "    # 이제 이 'llm' 객체는 OpenAI 모델을 다루듯 똑같이 사용할 수 있습니다.\n",
    "    question = \"What is the capital of South Korea?\"\n",
    "    response = llm.invoke(question)\n",
    "\n",
    "    print(f\"질문: {question}\")\n",
    "    print(f\"답변: {response}\")"
   ],
   "outputs": [],
   "execution_count": null
  }
 ],
 "metadata": {
  "kernelspec": {
   "display_name": "Python 3",
   "language": "python",
   "name": "python3"
  },
  "language_info": {
   "codemirror_mode": {
    "name": "ipython",
    "version": 2
   },
   "file_extension": ".py",
   "mimetype": "text/x-python",
   "name": "python",
   "nbconvert_exporter": "python",
   "pygments_lexer": "ipython2",
   "version": "2.7.6"
  }
 },
 "nbformat": 4,
 "nbformat_minor": 5
}
