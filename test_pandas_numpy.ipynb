{
 "cells": [
  {
   "metadata": {},
   "cell_type": "code",
   "outputs": [],
   "execution_count": null,
   "source": [
    "from datetime import datetime, date, timedelta, timezone\n",
    "from logging import exception"
   ],
   "id": "114c0317117292e5"
  },
  {
   "metadata": {},
   "cell_type": "code",
   "outputs": [],
   "execution_count": null,
   "source": "datetime.now(tz=timezone.utc)  # 현재 UTC 시간",
   "id": "b3e3c62162646cd1"
  },
  {
   "metadata": {},
   "cell_type": "code",
   "outputs": [],
   "execution_count": null,
   "source": "datetime.now(tz=timezone.utc)",
   "id": "771e00754a0affe7"
  },
  {
   "cell_type": "code",
   "execution_count": 4,
   "id": "af079183d4646bd5",
   "metadata": {
    "ExecuteTime": {
     "end_time": "2025-08-17T03:12:49.060476Z",
     "start_time": "2025-08-17T03:12:49.009796Z"
    }
   },
   "outputs": [
    {
     "name": "stdout",
     "output_type": "stream",
     "text": [
      "Vancouver 시간: 2025-08-16 20:12:49.058869-07:00\n"
     ]
    }
   ],
   "source": [
    "import pytz\n",
    "\n",
    "now = datetime.now(pytz.timezone(\"America/Vancouver\"))\n",
    "print(f\"Vancouver 시간: {now}\")"
   ]
  },
  {
   "cell_type": "code",
   "execution_count": 5,
   "id": "2473f976ba321c2",
   "metadata": {
    "ExecuteTime": {
     "end_time": "2025-08-17T03:13:07.100294Z",
     "start_time": "2025-08-17T03:13:07.095853Z"
    }
   },
   "outputs": [
    {
     "name": "stdout",
     "output_type": "stream",
     "text": [
      "Vancouver 시간: 2025-08-17 12:13:07.098445+09:00\n"
     ]
    }
   ],
   "source": [
    "now = datetime.now(pytz.timezone(\"Asia/Seoul\"))\n",
    "print(f\"Vancouver 시간: {now}\")"
   ]
  },
  {
   "cell_type": "code",
   "execution_count": 6,
   "id": "42a3c36abcca8880",
   "metadata": {
    "ExecuteTime": {
     "end_time": "2025-08-17T03:13:35.549334Z",
     "start_time": "2025-08-17T03:13:35.545910Z"
    }
   },
   "outputs": [
    {
     "data": {
      "text/plain": [
       "datetime.date(2025, 8, 17)"
      ]
     },
     "execution_count": 6,
     "metadata": {},
     "output_type": "execute_result"
    }
   ],
   "source": [
    "date.today()"
   ]
  },
  {
   "cell_type": "code",
   "execution_count": 7,
   "id": "a8b29d3f591f7be8",
   "metadata": {
    "ExecuteTime": {
     "end_time": "2025-08-17T03:13:44.800900Z",
     "start_time": "2025-08-17T03:13:44.798800Z"
    }
   },
   "outputs": [
    {
     "data": {
      "text/plain": [
       "datetime.datetime(2025, 8, 17, 12, 13, 44, 799310)"
      ]
     },
     "execution_count": 7,
     "metadata": {},
     "output_type": "execute_result"
    }
   ],
   "source": [
    "datetime.now()"
   ]
  },
  {
   "cell_type": "code",
   "execution_count": 8,
   "id": "cc2a52408a57050e",
   "metadata": {
    "ExecuteTime": {
     "end_time": "2025-08-17T03:14:04.426538Z",
     "start_time": "2025-08-17T03:14:04.423459Z"
    }
   },
   "outputs": [
    {
     "data": {
      "text/plain": [
       "datetime.datetime(2025, 8, 17, 3, 14, 4, 424439)"
      ]
     },
     "execution_count": 8,
     "metadata": {},
     "output_type": "execute_result"
    }
   ],
   "source": [
    "datetime.utcnow()"
   ]
  },
  {
   "cell_type": "code",
   "execution_count": 10,
   "id": "9496b5b9b39ee299",
   "metadata": {
    "ExecuteTime": {
     "end_time": "2025-08-17T03:14:51.892971Z",
     "start_time": "2025-08-17T03:14:51.889393Z"
    }
   },
   "outputs": [
    {
     "data": {
      "text/plain": [
       "1755400491.890421"
      ]
     },
     "execution_count": 10,
     "metadata": {},
     "output_type": "execute_result"
    }
   ],
   "source": [
    "datetime.now().timestamp()"
   ]
  },
  {
   "cell_type": "code",
   "execution_count": 11,
   "id": "96c9e87363714c3c",
   "metadata": {
    "ExecuteTime": {
     "end_time": "2025-08-17T03:16:59.454928Z",
     "start_time": "2025-08-17T03:16:59.452025Z"
    }
   },
   "outputs": [],
   "source": [
    "date_string = \"2024-12-25 15:30:45\"\n",
    "parsed_date = datetime.strptime(date_string, \"%Y-%m-%d %H:%M:%S\")"
   ]
  },
  {
   "cell_type": "code",
   "execution_count": 12,
   "id": "1115526dcb85042e",
   "metadata": {
    "ExecuteTime": {
     "end_time": "2025-08-17T03:17:02.237994Z",
     "start_time": "2025-08-17T03:17:02.235396Z"
    }
   },
   "outputs": [
    {
     "data": {
      "text/plain": [
       "datetime.datetime(2024, 12, 25, 15, 30, 45)"
      ]
     },
     "execution_count": 12,
     "metadata": {},
     "output_type": "execute_result"
    }
   ],
   "source": [
    "parsed_date"
   ]
  },
  {
   "cell_type": "code",
   "execution_count": 13,
   "id": "fd93edb91b56db82",
   "metadata": {
    "ExecuteTime": {
     "end_time": "2025-08-17T03:17:05.607831Z",
     "start_time": "2025-08-17T03:17:05.604042Z"
    }
   },
   "outputs": [
    {
     "data": {
      "text/plain": [
       "datetime.datetime"
      ]
     },
     "execution_count": 13,
     "metadata": {},
     "output_type": "execute_result"
    }
   ],
   "source": [
    "type(parsed_date)"
   ]
  },
  {
   "metadata": {},
   "cell_type": "code",
   "outputs": [],
   "execution_count": null,
   "source": [
    "date_formats = [\n",
    "    (\"2024/12/25\", \"%Y/%m/%d\"),\n",
    "    (\"25-12-2024\", \"%d-%m-%Y\"),\n",
    "    (\"Dec 25, 2024\", \"%b %d, %Y\"),\n",
    "    (\"2024년 12월 25일\", \"%Y년 %m월 %d일\"),\n",
    "]\n",
    "\n",
    "for date_str, format_str in date_formats:\n",
    "    try:\n",
    "        parsed = datetime.strptime(date_str, format_str)\n",
    "        print(f\"'{date_str}' → {parsed}\")\n",
    "    except exception as e:\n",
    "        print(f\"'err:{e} {date_str}' → 파싱 실패\")"
   ],
   "id": "55e2af7732e49462"
  },
  {
   "metadata": {},
   "cell_type": "code",
   "outputs": [],
   "execution_count": null,
   "source": [
    "sample_datetime = datetime(2024, 12, 25, 15, 30, 45, 123456)\n",
    "print(f\"샘플 날짜시간: {sample_datetime}\")\n",
    "\n",
    "# 개별 구성요소 추출\n",
    "print(f\"년도: {sample_datetime.year}\")\n",
    "print(f\"월: {sample_datetime.month}\")\n",
    "print(f\"일: {sample_datetime.day}\")\n",
    "print(f\"시간: {sample_datetime.hour}\")\n",
    "print(f\"분: {sample_datetime.minute}\")\n",
    "print(f\"초: {sample_datetime.second}\")\n",
    "print(f\"마이크로초: {sample_datetime.microsecond}\")"
   ],
   "id": "fd6b83a1c3af9132"
  },
  {
   "cell_type": "code",
   "execution_count": 16,
   "id": "a31b0962e96c6626",
   "metadata": {
    "ExecuteTime": {
     "end_time": "2025-08-17T03:19:40.837904Z",
     "start_time": "2025-08-17T03:19:40.835974Z"
    }
   },
   "outputs": [
    {
     "name": "stdout",
     "output_type": "stream",
     "text": [
      "요일 (숫자): 2\n",
      "요일 (ISO): 3\n"
     ]
    }
   ],
   "source": [
    "print(f\"요일 (숫자): {sample_datetime.weekday()}\")  # 월요일=0, 일요일=6\n",
    "print(f\"요일 (ISO): {sample_datetime.isoweekday()}\")  # 월요일=1, 일요일=7"
   ]
  },
  {
   "cell_type": "code",
   "execution_count": 17,
   "id": "b246a43860c5023f",
   "metadata": {
    "ExecuteTime": {
     "end_time": "2025-08-17T03:20:54.368203Z",
     "start_time": "2025-08-17T03:20:54.364578Z"
    }
   },
   "outputs": [
    {
     "name": "stdout",
     "output_type": "stream",
     "text": [
      "원본: 2025-08-17 12:20:54.366392\n",
      "기본: 2025-08-17 12:20:54\n",
      "한국식: 2025년 08월 17일 12시 20분\n",
      "영문 긴 형식: August 17, 2025 at 12:20 PM\n",
      "영문 짧은 형식: Aug 17, 2025\n",
      "ISO 형식: 2025-08-17T12:20:54.366392\n",
      "날짜만: 2025-08-17\n",
      "시간만: 12:20:54\n",
      "12시간 형식: 12:20:54 PM\n",
      "요일 포함: Sunday, August 17, 2025\n"
     ]
    }
   ],
   "source": [
    "now = datetime.now()\n",
    "print(f\"원본: {now}\")\n",
    "\n",
    "# 다양한 형식으로 변환\n",
    "formats = {\n",
    "    \"기본\": now.strftime(\"%Y-%m-%d %H:%M:%S\"),\n",
    "    \"한국식\": now.strftime(\"%Y년 %m월 %d일 %H시 %M분\"),\n",
    "    \"영문 긴 형식\": now.strftime(\"%B %d, %Y at %I:%M %p\"),\n",
    "    \"영문 짧은 형식\": now.strftime(\"%b %d, %Y\"),\n",
    "    \"ISO 형식\": now.isoformat(),\n",
    "    \"날짜만\": now.strftime(\"%Y-%m-%d\"),\n",
    "    \"시간만\": now.strftime(\"%H:%M:%S\"),\n",
    "    \"12시간 형식\": now.strftime(\"%I:%M:%S %p\"),\n",
    "    \"요일 포함\": now.strftime(\"%A, %B %d, %Y\"),\n",
    "}\n",
    "\n",
    "for description, formatted in formats.items():\n",
    "    print(f\"{description}: {formatted}\")"
   ]
  },
  {
   "cell_type": "code",
   "execution_count": 18,
   "id": "e4f1e71ac35b46ce",
   "metadata": {
    "ExecuteTime": {
     "end_time": "2025-08-17T03:21:29.070116Z",
     "start_time": "2025-08-17T03:21:29.067738Z"
    }
   },
   "outputs": [
    {
     "name": "stdout",
     "output_type": "stream",
     "text": [
      "하루: 1 day, 0:00:00\n",
      "일주일: 7 days, 0:00:00\n",
      "한 시간: 1:00:00\n",
      "복합 시간: 7 days, 3:30:15\n"
     ]
    }
   ],
   "source": [
    "one_day = timedelta(days=1)\n",
    "one_week = timedelta(weeks=1)\n",
    "one_hour = timedelta(hours=1)\n",
    "mixed_delta = timedelta(days=7, hours=3, minutes=30, seconds=15)\n",
    "\n",
    "print(f\"하루: {one_day}\")\n",
    "print(f\"일주일: {one_week}\")\n",
    "print(f\"한 시간: {one_hour}\")\n",
    "print(f\"복합 시간: {mixed_delta}\")"
   ]
  },
  {
   "cell_type": "code",
   "execution_count": 19,
   "id": "b0cb9f1016c505cc",
   "metadata": {
    "ExecuteTime": {
     "end_time": "2025-08-17T03:21:54.993341Z",
     "start_time": "2025-08-17T03:21:54.989865Z"
    }
   },
   "outputs": [
    {
     "name": "stdout",
     "output_type": "stream",
     "text": [
      "\n",
      "오늘: 2025-08-17 12:21\n",
      "어제: 2025-08-16 12:21\n",
      "내일: 2025-08-18 12:21\n",
      "다음 주: 2025-08-24 12:21\n",
      "다음 달(30일 후): 2025-09-16 12:21\n"
     ]
    }
   ],
   "source": [
    "today = datetime.now()\n",
    "yesterday = today - timedelta(days=1)\n",
    "tomorrow = today + timedelta(days=1)\n",
    "next_week = today + timedelta(weeks=1)\n",
    "next_month = today + timedelta(days=30)  # 근사치\n",
    "\n",
    "print(f\"\\n오늘: {today.strftime('%Y-%m-%d %H:%M')}\")\n",
    "print(f\"어제: {yesterday.strftime('%Y-%m-%d %H:%M')}\")\n",
    "print(f\"내일: {tomorrow.strftime('%Y-%m-%d %H:%M')}\")\n",
    "print(f\"다음 주: {next_week.strftime('%Y-%m-%d %H:%M')}\")\n",
    "print(f\"다음 달(30일 후): {next_month.strftime('%Y-%m-%d %H:%M')}\")"
   ]
  },
  {
   "cell_type": "code",
   "execution_count": 20,
   "id": "8bf4fe06feeb4b8f",
   "metadata": {
    "ExecuteTime": {
     "end_time": "2025-08-17T03:22:24.347671Z",
     "start_time": "2025-08-17T03:22:24.344699Z"
    }
   },
   "outputs": [
    {
     "name": "stdout",
     "output_type": "stream",
     "text": [
      "\n",
      "2024년 1월 1일부터 지난 시간: 594 days, 12:21:54.991606\n",
      "지난 일수: 594일\n",
      "총 초: 51366114.991606초\n"
     ]
    }
   ],
   "source": [
    "birthday = datetime(2024, 1, 1)\n",
    "days_passed = today - birthday\n",
    "print(f\"\\n2024년 1월 1일부터 지난 시간: {days_passed}\")\n",
    "print(f\"지난 일수: {days_passed.days}일\")\n",
    "print(f\"총 초: {days_passed.total_seconds()}초\")"
   ]
  },
  {
   "cell_type": "code",
   "execution_count": 22,
   "id": "1f5fe23f37a363cc",
   "metadata": {
    "ExecuteTime": {
     "end_time": "2025-08-17T03:22:49.638520Z",
     "start_time": "2025-08-17T03:22:49.635464Z"
    }
   },
   "outputs": [
    {
     "name": "stdout",
     "output_type": "stream",
     "text": [
      "크리스마스까지: 129일 남음\n",
      "\n"
     ]
    }
   ],
   "source": [
    "christmas = datetime(2025, 12, 25)\n",
    "days_to_christmas = christmas - today\n",
    "if days_to_christmas.days > 0:\n",
    "    print(f\"크리스마스까지: {days_to_christmas.days}일 남음\")\n",
    "else:\n",
    "    print(f\"크리스마스가 {abs(days_to_christmas.days)}일 전에 지났습니다\")\n",
    "print()"
   ]
  },
  {
   "cell_type": "code",
   "execution_count": 23,
   "id": "bb424c13e3012821",
   "metadata": {
    "ExecuteTime": {
     "end_time": "2025-08-17T03:24:22.418138Z",
     "start_time": "2025-08-17T03:24:22.412719Z"
    }
   },
   "outputs": [
    {
     "data": {
      "text/plain": [
       "[datetime.datetime(2024, 1, 1, 0, 0),\n",
       " datetime.datetime(2024, 1, 2, 0, 0),\n",
       " datetime.datetime(2024, 1, 3, 0, 0),\n",
       " datetime.datetime(2024, 1, 4, 0, 0),\n",
       " datetime.datetime(2024, 1, 5, 0, 0),\n",
       " datetime.datetime(2024, 1, 6, 0, 0),\n",
       " datetime.datetime(2024, 1, 7, 0, 0),\n",
       " datetime.datetime(2024, 1, 8, 0, 0),\n",
       " datetime.datetime(2024, 1, 9, 0, 0),\n",
       " datetime.datetime(2024, 1, 10, 0, 0),\n",
       " datetime.datetime(2024, 1, 11, 0, 0),\n",
       " datetime.datetime(2024, 1, 12, 0, 0),\n",
       " datetime.datetime(2024, 1, 13, 0, 0),\n",
       " datetime.datetime(2024, 1, 14, 0, 0),\n",
       " datetime.datetime(2024, 1, 15, 0, 0),\n",
       " datetime.datetime(2024, 1, 16, 0, 0),\n",
       " datetime.datetime(2024, 1, 17, 0, 0),\n",
       " datetime.datetime(2024, 1, 18, 0, 0),\n",
       " datetime.datetime(2024, 1, 19, 0, 0),\n",
       " datetime.datetime(2024, 1, 20, 0, 0),\n",
       " datetime.datetime(2024, 1, 21, 0, 0),\n",
       " datetime.datetime(2024, 1, 22, 0, 0),\n",
       " datetime.datetime(2024, 1, 23, 0, 0),\n",
       " datetime.datetime(2024, 1, 24, 0, 0),\n",
       " datetime.datetime(2024, 1, 25, 0, 0),\n",
       " datetime.datetime(2024, 1, 26, 0, 0),\n",
       " datetime.datetime(2024, 1, 27, 0, 0),\n",
       " datetime.datetime(2024, 1, 28, 0, 0),\n",
       " datetime.datetime(2024, 1, 29, 0, 0),\n",
       " datetime.datetime(2024, 1, 30, 0, 0),\n",
       " datetime.datetime(2024, 1, 31, 0, 0),\n",
       " datetime.datetime(2024, 2, 1, 0, 0),\n",
       " datetime.datetime(2024, 2, 2, 0, 0),\n",
       " datetime.datetime(2024, 2, 3, 0, 0),\n",
       " datetime.datetime(2024, 2, 4, 0, 0),\n",
       " datetime.datetime(2024, 2, 5, 0, 0),\n",
       " datetime.datetime(2024, 2, 6, 0, 0),\n",
       " datetime.datetime(2024, 2, 7, 0, 0),\n",
       " datetime.datetime(2024, 2, 8, 0, 0),\n",
       " datetime.datetime(2024, 2, 9, 0, 0),\n",
       " datetime.datetime(2024, 2, 10, 0, 0),\n",
       " datetime.datetime(2024, 2, 11, 0, 0),\n",
       " datetime.datetime(2024, 2, 12, 0, 0),\n",
       " datetime.datetime(2024, 2, 13, 0, 0),\n",
       " datetime.datetime(2024, 2, 14, 0, 0),\n",
       " datetime.datetime(2024, 2, 15, 0, 0),\n",
       " datetime.datetime(2024, 2, 16, 0, 0),\n",
       " datetime.datetime(2024, 2, 17, 0, 0),\n",
       " datetime.datetime(2024, 2, 18, 0, 0),\n",
       " datetime.datetime(2024, 2, 19, 0, 0),\n",
       " datetime.datetime(2024, 2, 20, 0, 0),\n",
       " datetime.datetime(2024, 2, 21, 0, 0),\n",
       " datetime.datetime(2024, 2, 22, 0, 0),\n",
       " datetime.datetime(2024, 2, 23, 0, 0),\n",
       " datetime.datetime(2024, 2, 24, 0, 0),\n",
       " datetime.datetime(2024, 2, 25, 0, 0),\n",
       " datetime.datetime(2024, 2, 26, 0, 0),\n",
       " datetime.datetime(2024, 2, 27, 0, 0),\n",
       " datetime.datetime(2024, 2, 28, 0, 0),\n",
       " datetime.datetime(2024, 2, 29, 0, 0),\n",
       " datetime.datetime(2024, 3, 1, 0, 0),\n",
       " datetime.datetime(2024, 3, 2, 0, 0),\n",
       " datetime.datetime(2024, 3, 3, 0, 0),\n",
       " datetime.datetime(2024, 3, 4, 0, 0),\n",
       " datetime.datetime(2024, 3, 5, 0, 0),\n",
       " datetime.datetime(2024, 3, 6, 0, 0),\n",
       " datetime.datetime(2024, 3, 7, 0, 0),\n",
       " datetime.datetime(2024, 3, 8, 0, 0),\n",
       " datetime.datetime(2024, 3, 9, 0, 0),\n",
       " datetime.datetime(2024, 3, 10, 0, 0),\n",
       " datetime.datetime(2024, 3, 11, 0, 0),\n",
       " datetime.datetime(2024, 3, 12, 0, 0),\n",
       " datetime.datetime(2024, 3, 13, 0, 0),\n",
       " datetime.datetime(2024, 3, 14, 0, 0),\n",
       " datetime.datetime(2024, 3, 15, 0, 0),\n",
       " datetime.datetime(2024, 3, 16, 0, 0),\n",
       " datetime.datetime(2024, 3, 17, 0, 0),\n",
       " datetime.datetime(2024, 3, 18, 0, 0),\n",
       " datetime.datetime(2024, 3, 19, 0, 0),\n",
       " datetime.datetime(2024, 3, 20, 0, 0),\n",
       " datetime.datetime(2024, 3, 21, 0, 0),\n",
       " datetime.datetime(2024, 3, 22, 0, 0),\n",
       " datetime.datetime(2024, 3, 23, 0, 0),\n",
       " datetime.datetime(2024, 3, 24, 0, 0),\n",
       " datetime.datetime(2024, 3, 25, 0, 0),\n",
       " datetime.datetime(2024, 3, 26, 0, 0),\n",
       " datetime.datetime(2024, 3, 27, 0, 0),\n",
       " datetime.datetime(2024, 3, 28, 0, 0),\n",
       " datetime.datetime(2024, 3, 29, 0, 0),\n",
       " datetime.datetime(2024, 3, 30, 0, 0),\n",
       " datetime.datetime(2024, 3, 31, 0, 0),\n",
       " datetime.datetime(2024, 4, 1, 0, 0),\n",
       " datetime.datetime(2024, 4, 2, 0, 0),\n",
       " datetime.datetime(2024, 4, 3, 0, 0),\n",
       " datetime.datetime(2024, 4, 4, 0, 0),\n",
       " datetime.datetime(2024, 4, 5, 0, 0),\n",
       " datetime.datetime(2024, 4, 6, 0, 0),\n",
       " datetime.datetime(2024, 4, 7, 0, 0),\n",
       " datetime.datetime(2024, 4, 8, 0, 0),\n",
       " datetime.datetime(2024, 4, 9, 0, 0),\n",
       " datetime.datetime(2024, 4, 10, 0, 0),\n",
       " datetime.datetime(2024, 4, 11, 0, 0),\n",
       " datetime.datetime(2024, 4, 12, 0, 0),\n",
       " datetime.datetime(2024, 4, 13, 0, 0),\n",
       " datetime.datetime(2024, 4, 14, 0, 0),\n",
       " datetime.datetime(2024, 4, 15, 0, 0),\n",
       " datetime.datetime(2024, 4, 16, 0, 0),\n",
       " datetime.datetime(2024, 4, 17, 0, 0),\n",
       " datetime.datetime(2024, 4, 18, 0, 0),\n",
       " datetime.datetime(2024, 4, 19, 0, 0),\n",
       " datetime.datetime(2024, 4, 20, 0, 0),\n",
       " datetime.datetime(2024, 4, 21, 0, 0),\n",
       " datetime.datetime(2024, 4, 22, 0, 0),\n",
       " datetime.datetime(2024, 4, 23, 0, 0),\n",
       " datetime.datetime(2024, 4, 24, 0, 0),\n",
       " datetime.datetime(2024, 4, 25, 0, 0),\n",
       " datetime.datetime(2024, 4, 26, 0, 0),\n",
       " datetime.datetime(2024, 4, 27, 0, 0),\n",
       " datetime.datetime(2024, 4, 28, 0, 0),\n",
       " datetime.datetime(2024, 4, 29, 0, 0),\n",
       " datetime.datetime(2024, 4, 30, 0, 0),\n",
       " datetime.datetime(2024, 5, 1, 0, 0),\n",
       " datetime.datetime(2024, 5, 2, 0, 0),\n",
       " datetime.datetime(2024, 5, 3, 0, 0),\n",
       " datetime.datetime(2024, 5, 4, 0, 0),\n",
       " datetime.datetime(2024, 5, 5, 0, 0),\n",
       " datetime.datetime(2024, 5, 6, 0, 0),\n",
       " datetime.datetime(2024, 5, 7, 0, 0),\n",
       " datetime.datetime(2024, 5, 8, 0, 0),\n",
       " datetime.datetime(2024, 5, 9, 0, 0),\n",
       " datetime.datetime(2024, 5, 10, 0, 0),\n",
       " datetime.datetime(2024, 5, 11, 0, 0),\n",
       " datetime.datetime(2024, 5, 12, 0, 0),\n",
       " datetime.datetime(2024, 5, 13, 0, 0),\n",
       " datetime.datetime(2024, 5, 14, 0, 0),\n",
       " datetime.datetime(2024, 5, 15, 0, 0),\n",
       " datetime.datetime(2024, 5, 16, 0, 0),\n",
       " datetime.datetime(2024, 5, 17, 0, 0),\n",
       " datetime.datetime(2024, 5, 18, 0, 0),\n",
       " datetime.datetime(2024, 5, 19, 0, 0),\n",
       " datetime.datetime(2024, 5, 20, 0, 0),\n",
       " datetime.datetime(2024, 5, 21, 0, 0),\n",
       " datetime.datetime(2024, 5, 22, 0, 0),\n",
       " datetime.datetime(2024, 5, 23, 0, 0),\n",
       " datetime.datetime(2024, 5, 24, 0, 0),\n",
       " datetime.datetime(2024, 5, 25, 0, 0),\n",
       " datetime.datetime(2024, 5, 26, 0, 0),\n",
       " datetime.datetime(2024, 5, 27, 0, 0),\n",
       " datetime.datetime(2024, 5, 28, 0, 0),\n",
       " datetime.datetime(2024, 5, 29, 0, 0),\n",
       " datetime.datetime(2024, 5, 30, 0, 0),\n",
       " datetime.datetime(2024, 5, 31, 0, 0),\n",
       " datetime.datetime(2024, 6, 1, 0, 0),\n",
       " datetime.datetime(2024, 6, 2, 0, 0),\n",
       " datetime.datetime(2024, 6, 3, 0, 0),\n",
       " datetime.datetime(2024, 6, 4, 0, 0),\n",
       " datetime.datetime(2024, 6, 5, 0, 0),\n",
       " datetime.datetime(2024, 6, 6, 0, 0),\n",
       " datetime.datetime(2024, 6, 7, 0, 0),\n",
       " datetime.datetime(2024, 6, 8, 0, 0),\n",
       " datetime.datetime(2024, 6, 9, 0, 0),\n",
       " datetime.datetime(2024, 6, 10, 0, 0),\n",
       " datetime.datetime(2024, 6, 11, 0, 0),\n",
       " datetime.datetime(2024, 6, 12, 0, 0),\n",
       " datetime.datetime(2024, 6, 13, 0, 0),\n",
       " datetime.datetime(2024, 6, 14, 0, 0),\n",
       " datetime.datetime(2024, 6, 15, 0, 0),\n",
       " datetime.datetime(2024, 6, 16, 0, 0),\n",
       " datetime.datetime(2024, 6, 17, 0, 0),\n",
       " datetime.datetime(2024, 6, 18, 0, 0),\n",
       " datetime.datetime(2024, 6, 19, 0, 0),\n",
       " datetime.datetime(2024, 6, 20, 0, 0),\n",
       " datetime.datetime(2024, 6, 21, 0, 0),\n",
       " datetime.datetime(2024, 6, 22, 0, 0),\n",
       " datetime.datetime(2024, 6, 23, 0, 0),\n",
       " datetime.datetime(2024, 6, 24, 0, 0),\n",
       " datetime.datetime(2024, 6, 25, 0, 0),\n",
       " datetime.datetime(2024, 6, 26, 0, 0),\n",
       " datetime.datetime(2024, 6, 27, 0, 0),\n",
       " datetime.datetime(2024, 6, 28, 0, 0),\n",
       " datetime.datetime(2024, 6, 29, 0, 0),\n",
       " datetime.datetime(2024, 6, 30, 0, 0),\n",
       " datetime.datetime(2024, 7, 1, 0, 0),\n",
       " datetime.datetime(2024, 7, 2, 0, 0),\n",
       " datetime.datetime(2024, 7, 3, 0, 0),\n",
       " datetime.datetime(2024, 7, 4, 0, 0),\n",
       " datetime.datetime(2024, 7, 5, 0, 0),\n",
       " datetime.datetime(2024, 7, 6, 0, 0),\n",
       " datetime.datetime(2024, 7, 7, 0, 0),\n",
       " datetime.datetime(2024, 7, 8, 0, 0),\n",
       " datetime.datetime(2024, 7, 9, 0, 0),\n",
       " datetime.datetime(2024, 7, 10, 0, 0),\n",
       " datetime.datetime(2024, 7, 11, 0, 0),\n",
       " datetime.datetime(2024, 7, 12, 0, 0),\n",
       " datetime.datetime(2024, 7, 13, 0, 0),\n",
       " datetime.datetime(2024, 7, 14, 0, 0),\n",
       " datetime.datetime(2024, 7, 15, 0, 0),\n",
       " datetime.datetime(2024, 7, 16, 0, 0),\n",
       " datetime.datetime(2024, 7, 17, 0, 0),\n",
       " datetime.datetime(2024, 7, 18, 0, 0),\n",
       " datetime.datetime(2024, 7, 19, 0, 0),\n",
       " datetime.datetime(2024, 7, 20, 0, 0),\n",
       " datetime.datetime(2024, 7, 21, 0, 0),\n",
       " datetime.datetime(2024, 7, 22, 0, 0),\n",
       " datetime.datetime(2024, 7, 23, 0, 0),\n",
       " datetime.datetime(2024, 7, 24, 0, 0),\n",
       " datetime.datetime(2024, 7, 25, 0, 0),\n",
       " datetime.datetime(2024, 7, 26, 0, 0),\n",
       " datetime.datetime(2024, 7, 27, 0, 0),\n",
       " datetime.datetime(2024, 7, 28, 0, 0),\n",
       " datetime.datetime(2024, 7, 29, 0, 0),\n",
       " datetime.datetime(2024, 7, 30, 0, 0),\n",
       " datetime.datetime(2024, 7, 31, 0, 0),\n",
       " datetime.datetime(2024, 8, 1, 0, 0),\n",
       " datetime.datetime(2024, 8, 2, 0, 0),\n",
       " datetime.datetime(2024, 8, 3, 0, 0),\n",
       " datetime.datetime(2024, 8, 4, 0, 0),\n",
       " datetime.datetime(2024, 8, 5, 0, 0),\n",
       " datetime.datetime(2024, 8, 6, 0, 0),\n",
       " datetime.datetime(2024, 8, 7, 0, 0),\n",
       " datetime.datetime(2024, 8, 8, 0, 0),\n",
       " datetime.datetime(2024, 8, 9, 0, 0),\n",
       " datetime.datetime(2024, 8, 10, 0, 0),\n",
       " datetime.datetime(2024, 8, 11, 0, 0),\n",
       " datetime.datetime(2024, 8, 12, 0, 0),\n",
       " datetime.datetime(2024, 8, 13, 0, 0),\n",
       " datetime.datetime(2024, 8, 14, 0, 0),\n",
       " datetime.datetime(2024, 8, 15, 0, 0),\n",
       " datetime.datetime(2024, 8, 16, 0, 0),\n",
       " datetime.datetime(2024, 8, 17, 0, 0),\n",
       " datetime.datetime(2024, 8, 18, 0, 0),\n",
       " datetime.datetime(2024, 8, 19, 0, 0),\n",
       " datetime.datetime(2024, 8, 20, 0, 0),\n",
       " datetime.datetime(2024, 8, 21, 0, 0),\n",
       " datetime.datetime(2024, 8, 22, 0, 0),\n",
       " datetime.datetime(2024, 8, 23, 0, 0),\n",
       " datetime.datetime(2024, 8, 24, 0, 0),\n",
       " datetime.datetime(2024, 8, 25, 0, 0),\n",
       " datetime.datetime(2024, 8, 26, 0, 0),\n",
       " datetime.datetime(2024, 8, 27, 0, 0),\n",
       " datetime.datetime(2024, 8, 28, 0, 0),\n",
       " datetime.datetime(2024, 8, 29, 0, 0),\n",
       " datetime.datetime(2024, 8, 30, 0, 0),\n",
       " datetime.datetime(2024, 8, 31, 0, 0),\n",
       " datetime.datetime(2024, 9, 1, 0, 0),\n",
       " datetime.datetime(2024, 9, 2, 0, 0),\n",
       " datetime.datetime(2024, 9, 3, 0, 0),\n",
       " datetime.datetime(2024, 9, 4, 0, 0),\n",
       " datetime.datetime(2024, 9, 5, 0, 0),\n",
       " datetime.datetime(2024, 9, 6, 0, 0),\n",
       " datetime.datetime(2024, 9, 7, 0, 0),\n",
       " datetime.datetime(2024, 9, 8, 0, 0),\n",
       " datetime.datetime(2024, 9, 9, 0, 0),\n",
       " datetime.datetime(2024, 9, 10, 0, 0),\n",
       " datetime.datetime(2024, 9, 11, 0, 0),\n",
       " datetime.datetime(2024, 9, 12, 0, 0),\n",
       " datetime.datetime(2024, 9, 13, 0, 0),\n",
       " datetime.datetime(2024, 9, 14, 0, 0),\n",
       " datetime.datetime(2024, 9, 15, 0, 0),\n",
       " datetime.datetime(2024, 9, 16, 0, 0),\n",
       " datetime.datetime(2024, 9, 17, 0, 0),\n",
       " datetime.datetime(2024, 9, 18, 0, 0),\n",
       " datetime.datetime(2024, 9, 19, 0, 0),\n",
       " datetime.datetime(2024, 9, 20, 0, 0),\n",
       " datetime.datetime(2024, 9, 21, 0, 0),\n",
       " datetime.datetime(2024, 9, 22, 0, 0),\n",
       " datetime.datetime(2024, 9, 23, 0, 0),\n",
       " datetime.datetime(2024, 9, 24, 0, 0),\n",
       " datetime.datetime(2024, 9, 25, 0, 0),\n",
       " datetime.datetime(2024, 9, 26, 0, 0),\n",
       " datetime.datetime(2024, 9, 27, 0, 0),\n",
       " datetime.datetime(2024, 9, 28, 0, 0),\n",
       " datetime.datetime(2024, 9, 29, 0, 0),\n",
       " datetime.datetime(2024, 9, 30, 0, 0),\n",
       " datetime.datetime(2024, 10, 1, 0, 0),\n",
       " datetime.datetime(2024, 10, 2, 0, 0),\n",
       " datetime.datetime(2024, 10, 3, 0, 0),\n",
       " datetime.datetime(2024, 10, 4, 0, 0),\n",
       " datetime.datetime(2024, 10, 5, 0, 0),\n",
       " datetime.datetime(2024, 10, 6, 0, 0),\n",
       " datetime.datetime(2024, 10, 7, 0, 0),\n",
       " datetime.datetime(2024, 10, 8, 0, 0),\n",
       " datetime.datetime(2024, 10, 9, 0, 0),\n",
       " datetime.datetime(2024, 10, 10, 0, 0),\n",
       " datetime.datetime(2024, 10, 11, 0, 0),\n",
       " datetime.datetime(2024, 10, 12, 0, 0),\n",
       " datetime.datetime(2024, 10, 13, 0, 0),\n",
       " datetime.datetime(2024, 10, 14, 0, 0),\n",
       " datetime.datetime(2024, 10, 15, 0, 0),\n",
       " datetime.datetime(2024, 10, 16, 0, 0),\n",
       " datetime.datetime(2024, 10, 17, 0, 0),\n",
       " datetime.datetime(2024, 10, 18, 0, 0),\n",
       " datetime.datetime(2024, 10, 19, 0, 0),\n",
       " datetime.datetime(2024, 10, 20, 0, 0),\n",
       " datetime.datetime(2024, 10, 21, 0, 0),\n",
       " datetime.datetime(2024, 10, 22, 0, 0),\n",
       " datetime.datetime(2024, 10, 23, 0, 0),\n",
       " datetime.datetime(2024, 10, 24, 0, 0),\n",
       " datetime.datetime(2024, 10, 25, 0, 0),\n",
       " datetime.datetime(2024, 10, 26, 0, 0),\n",
       " datetime.datetime(2024, 10, 27, 0, 0),\n",
       " datetime.datetime(2024, 10, 28, 0, 0),\n",
       " datetime.datetime(2024, 10, 29, 0, 0),\n",
       " datetime.datetime(2024, 10, 30, 0, 0),\n",
       " datetime.datetime(2024, 10, 31, 0, 0),\n",
       " datetime.datetime(2024, 11, 1, 0, 0),\n",
       " datetime.datetime(2024, 11, 2, 0, 0),\n",
       " datetime.datetime(2024, 11, 3, 0, 0),\n",
       " datetime.datetime(2024, 11, 4, 0, 0),\n",
       " datetime.datetime(2024, 11, 5, 0, 0),\n",
       " datetime.datetime(2024, 11, 6, 0, 0),\n",
       " datetime.datetime(2024, 11, 7, 0, 0),\n",
       " datetime.datetime(2024, 11, 8, 0, 0),\n",
       " datetime.datetime(2024, 11, 9, 0, 0),\n",
       " datetime.datetime(2024, 11, 10, 0, 0),\n",
       " datetime.datetime(2024, 11, 11, 0, 0),\n",
       " datetime.datetime(2024, 11, 12, 0, 0),\n",
       " datetime.datetime(2024, 11, 13, 0, 0),\n",
       " datetime.datetime(2024, 11, 14, 0, 0),\n",
       " datetime.datetime(2024, 11, 15, 0, 0),\n",
       " datetime.datetime(2024, 11, 16, 0, 0),\n",
       " datetime.datetime(2024, 11, 17, 0, 0),\n",
       " datetime.datetime(2024, 11, 18, 0, 0),\n",
       " datetime.datetime(2024, 11, 19, 0, 0),\n",
       " datetime.datetime(2024, 11, 20, 0, 0),\n",
       " datetime.datetime(2024, 11, 21, 0, 0),\n",
       " datetime.datetime(2024, 11, 22, 0, 0),\n",
       " datetime.datetime(2024, 11, 23, 0, 0),\n",
       " datetime.datetime(2024, 11, 24, 0, 0),\n",
       " datetime.datetime(2024, 11, 25, 0, 0),\n",
       " datetime.datetime(2024, 11, 26, 0, 0),\n",
       " datetime.datetime(2024, 11, 27, 0, 0),\n",
       " datetime.datetime(2024, 11, 28, 0, 0),\n",
       " datetime.datetime(2024, 11, 29, 0, 0),\n",
       " datetime.datetime(2024, 11, 30, 0, 0),\n",
       " datetime.datetime(2024, 12, 1, 0, 0),\n",
       " datetime.datetime(2024, 12, 2, 0, 0),\n",
       " datetime.datetime(2024, 12, 3, 0, 0),\n",
       " datetime.datetime(2024, 12, 4, 0, 0),\n",
       " datetime.datetime(2024, 12, 5, 0, 0),\n",
       " datetime.datetime(2024, 12, 6, 0, 0),\n",
       " datetime.datetime(2024, 12, 7, 0, 0),\n",
       " datetime.datetime(2024, 12, 8, 0, 0),\n",
       " datetime.datetime(2024, 12, 9, 0, 0),\n",
       " datetime.datetime(2024, 12, 10, 0, 0),\n",
       " datetime.datetime(2024, 12, 11, 0, 0),\n",
       " datetime.datetime(2024, 12, 12, 0, 0),\n",
       " datetime.datetime(2024, 12, 13, 0, 0),\n",
       " datetime.datetime(2024, 12, 14, 0, 0),\n",
       " datetime.datetime(2024, 12, 15, 0, 0),\n",
       " datetime.datetime(2024, 12, 16, 0, 0),\n",
       " datetime.datetime(2024, 12, 17, 0, 0),\n",
       " datetime.datetime(2024, 12, 18, 0, 0),\n",
       " datetime.datetime(2024, 12, 19, 0, 0),\n",
       " datetime.datetime(2024, 12, 20, 0, 0),\n",
       " datetime.datetime(2024, 12, 21, 0, 0),\n",
       " datetime.datetime(2024, 12, 22, 0, 0),\n",
       " datetime.datetime(2024, 12, 23, 0, 0),\n",
       " datetime.datetime(2024, 12, 24, 0, 0),\n",
       " datetime.datetime(2024, 12, 25, 0, 0),\n",
       " datetime.datetime(2024, 12, 26, 0, 0),\n",
       " datetime.datetime(2024, 12, 27, 0, 0),\n",
       " datetime.datetime(2024, 12, 28, 0, 0),\n",
       " datetime.datetime(2024, 12, 29, 0, 0),\n",
       " datetime.datetime(2024, 12, 30, 0, 0)]"
      ]
     },
     "execution_count": 23,
     "metadata": {},
     "output_type": "execute_result"
    }
   ],
   "source": [
    "start_date = datetime(2024, 1, 1)\n",
    "dates = [start_date + timedelta(days=i) for i in range(365)]\n",
    "dates"
   ]
  },
  {
   "cell_type": "code",
   "execution_count": 24,
   "id": "a5c3a12445db84a8",
   "metadata": {
    "ExecuteTime": {
     "end_time": "2025-08-17T03:25:16.332130Z",
     "start_time": "2025-08-17T03:25:16.256639Z"
    }
   },
   "outputs": [],
   "source": [
    "import numpy as np\n",
    "\n",
    "t = np.arange(365)\n",
    "trend = 0.1 * t  # 선형 트렌드\n",
    "seasonal = 10 * np.sin(2 * np.pi * t / 365)  # 연간 계절성\n",
    "noise = np.random.normal(0, 2, 365)  # 노이즈"
   ]
  },
  {
   "cell_type": "code",
   "execution_count": 28,
   "id": "6c2f7ddc1459c21",
   "metadata": {
    "ExecuteTime": {
     "end_time": "2025-08-17T03:25:47.236955Z",
     "start_time": "2025-08-17T03:25:47.233527Z"
    }
   },
   "outputs": [
    {
     "data": {
      "text/plain": [
       "array([-2.49771553e+00,  2.51305921e+00, -1.33726805e-01,  2.77067760e+00,\n",
       "       -3.49115377e-01, -9.81912901e-01, -9.23491226e-01,  1.73384315e+00,\n",
       "       -1.29437564e+00, -2.53216904e+00, -1.32240498e+00,  5.60457768e+00,\n",
       "       -2.50211847e+00,  2.75612244e+00, -9.43819001e-01, -1.52628748e+00,\n",
       "       -1.18484839e+00,  2.71827865e-01, -1.49105027e+00,  9.09440158e-01,\n",
       "        5.81183624e-02, -1.78228044e+00, -3.34783730e+00,  2.47414083e+00,\n",
       "       -4.28769959e+00, -3.28728863e+00,  6.73891728e-02, -2.94305320e+00,\n",
       "        1.57267119e+00, -3.82877011e+00, -1.00785121e+00, -1.95723535e+00,\n",
       "       -1.05440357e+00, -8.65800723e-01,  5.33392896e-01,  3.54608830e-01,\n",
       "       -3.64414950e+00,  2.42897989e+00,  3.31017948e-01,  4.05626602e-01,\n",
       "        2.13413955e+00,  1.60822730e+00, -4.31697509e-01,  2.90782849e+00,\n",
       "        5.82540294e-01, -3.84905004e+00, -1.42659306e+00, -9.52480381e-01,\n",
       "       -2.69817556e+00, -3.66841453e-01,  1.49379832e+00, -2.06844111e-02,\n",
       "       -2.89607571e+00,  1.37501321e+00,  1.73028923e+00,  1.95370269e+00,\n",
       "        1.38471963e+00,  2.76695964e+00, -1.06565776e+00, -3.24478463e+00,\n",
       "        2.32063707e+00,  5.84882093e-01, -2.30809688e+00,  7.86753312e-01,\n",
       "        5.75022559e-01, -7.80116271e-02,  7.43871075e-01,  3.58470131e+00,\n",
       "       -1.65657860e+00,  1.57425581e+00, -9.90994914e-01, -3.32563013e+00,\n",
       "       -9.21429346e-01,  6.36954646e-01,  5.57787702e-01,  3.11653507e+00,\n",
       "       -7.23578664e-01, -1.79854303e-01, -1.26794046e-01, -1.30259827e+00,\n",
       "       -3.51288175e-01, -1.13869927e+00, -1.22846461e+00,  2.08566519e+00,\n",
       "       -1.71550578e-01,  6.45070311e-01, -1.26690785e+00, -7.32004191e-01,\n",
       "       -1.17791224e-01, -1.07334059e+00,  2.90165928e+00, -2.79130042e-01,\n",
       "        2.84145695e+00, -1.46059131e+00, -1.89286054e+00,  7.56007913e-01,\n",
       "       -2.35601559e+00, -2.61453991e+00, -2.43642428e+00,  2.33177587e+00,\n",
       "        4.09961455e+00,  3.96795397e+00, -3.35484786e+00, -2.05464356e+00,\n",
       "        1.04125414e+00,  1.03053171e+00,  3.52713371e+00, -2.51585822e+00,\n",
       "       -4.92840954e-01, -2.82180230e+00, -1.59032166e+00,  1.36380874e-01,\n",
       "        8.03241075e-02, -2.77295325e+00,  2.39671644e+00,  2.76592176e+00,\n",
       "        3.75899844e-01,  2.55247837e+00, -4.80071550e-01, -2.40314171e+00,\n",
       "       -3.34086171e+00,  2.51001155e+00,  2.93141295e+00, -8.52678201e-01,\n",
       "        2.33164797e+00, -2.85490360e+00, -4.35599932e-01,  1.18208397e-01,\n",
       "       -3.62351262e+00,  2.97258322e+00, -3.19321951e+00,  6.80588633e-01,\n",
       "        4.00239037e-01, -5.69915961e-02, -5.27108505e-01, -5.64992291e-01,\n",
       "        5.20627596e-01, -4.70540813e-01,  3.19820329e+00,  2.84245716e+00,\n",
       "       -3.51341922e+00, -1.28544737e+00,  1.45960193e-01,  1.56287419e+00,\n",
       "        1.55544463e-01, -2.25027206e+00, -3.61894001e+00,  3.36795336e+00,\n",
       "       -1.21906208e+00,  1.81063920e+00,  5.90407482e-01, -2.83223258e+00,\n",
       "       -2.06913892e+00, -2.20671817e+00,  5.90827096e+00,  2.90637917e+00,\n",
       "       -1.97457352e-02,  6.31624268e-01,  2.14219641e+00,  4.60767256e+00,\n",
       "        6.72554242e-02, -1.52265751e+00, -4.47690915e-01,  2.87014379e-01,\n",
       "       -2.40320894e+00,  2.04745513e+00,  3.76690418e+00, -9.70263625e-01,\n",
       "       -1.24790426e-01,  9.38242361e-01, -2.03674625e+00,  1.33039662e+00,\n",
       "        1.54615319e+00,  4.39720156e-01,  2.46107463e+00, -1.22425310e+00,\n",
       "       -1.40411512e+00, -3.16935797e+00,  2.49346450e+00, -1.26882077e+00,\n",
       "        3.69085860e+00,  5.72471164e-01, -9.62340764e-01, -1.54947989e+00,\n",
       "       -2.56795900e+00,  1.54435240e+00,  3.11165805e+00, -3.28282135e+00,\n",
       "       -1.02719877e+00, -1.30553770e+00,  9.66365518e-01,  1.46924579e-03,\n",
       "       -7.72421229e-01, -1.17176745e+00, -6.48297852e-01,  4.24144590e-01,\n",
       "        4.95064374e+00,  2.67356894e+00,  6.53966665e-01,  1.70788885e+00,\n",
       "        2.71223934e+00, -6.41774228e-01, -2.33087895e+00, -2.01289380e+00,\n",
       "        2.25356081e+00, -1.29715982e+00, -3.23100636e-01, -1.73548927e+00,\n",
       "        1.22029368e+00, -3.19863508e+00,  2.38027815e+00, -4.03034779e+00,\n",
       "        3.15583676e+00,  6.33963459e+00,  3.90432580e+00, -3.06424665e-01,\n",
       "       -5.54950441e-02, -1.53271748e+00,  2.59673376e+00,  1.37989704e+00,\n",
       "        4.77168171e-01,  7.30606142e-01,  1.42944305e+00, -2.48158446e-01,\n",
       "       -1.16232427e+00,  1.11106126e+00,  1.50294659e+00, -1.29870951e-01,\n",
       "       -2.36654869e+00, -5.69106054e-01, -3.69811371e+00,  9.01291667e-02,\n",
       "        9.16162610e-01, -2.62651237e+00, -2.27390384e-01, -1.40404918e+00,\n",
       "        9.41905319e-01, -4.99615909e-02,  7.47512292e-01, -2.32347669e+00,\n",
       "        8.61919359e-01, -1.85637545e+00, -4.05138529e-01, -1.77703742e+00,\n",
       "        6.83361889e-01,  1.21566368e+00,  2.20421353e+00, -1.04808309e+00,\n",
       "        3.16803135e+00,  7.33458793e-01,  1.14361030e+00,  2.54975037e+00,\n",
       "       -4.28831752e-01, -1.38328419e+00, -6.06814825e+00, -1.33883836e+00,\n",
       "       -1.01658404e+00,  2.08602123e+00, -3.13489081e+00,  2.23897950e+00,\n",
       "        8.01237797e-01, -3.10055104e+00,  1.21685620e+00, -3.30000635e+00,\n",
       "        2.53266439e-01, -1.01656728e+00,  1.53458790e+00, -2.37632106e+00,\n",
       "        3.42293354e+00,  1.99750842e+00, -1.98915858e+00, -6.98830280e-01,\n",
       "        7.54787487e-01, -1.22237464e+00,  2.70196916e+00, -8.29635835e-01,\n",
       "        1.37674796e+00,  2.09130198e-01, -1.64489436e+00,  2.30903330e+00,\n",
       "        1.81013770e+00, -9.75290720e-01,  1.38905624e+00, -4.48846036e+00,\n",
       "       -1.21496256e+00, -3.01547844e+00, -1.34427512e+00,  1.11089871e+00,\n",
       "       -4.82191367e-01,  3.13291068e+00, -1.15119394e+00,  1.37046841e+00,\n",
       "       -2.21394496e+00, -1.70782162e+00, -2.42041048e+00, -1.74680903e+00,\n",
       "        2.88926127e+00,  1.13852383e+00, -8.06985754e-01, -3.06981673e+00,\n",
       "        4.00069036e-01,  2.88963458e+00, -3.52283712e+00,  5.66038115e-01,\n",
       "       -1.91770201e+00, -5.17753332e+00, -2.22063812e-01, -3.31528338e+00,\n",
       "        2.48644070e+00,  4.68378476e-01,  3.15349411e+00,  1.27418990e+00,\n",
       "       -8.57874283e-01, -2.03911178e+00, -1.05578347e+00,  4.80629557e+00,\n",
       "        6.78106854e-01,  2.46921269e+00, -2.49701759e+00,  2.92902200e+00,\n",
       "       -1.29036791e+00,  2.13637401e+00, -2.67142463e+00,  3.70891121e+00,\n",
       "        2.56803963e+00,  1.44727237e+00,  1.43503347e+00,  2.38037907e-01,\n",
       "        5.59018200e-01,  2.20216163e+00,  2.04423909e+00, -9.40177455e-01,\n",
       "       -1.98492885e+00, -1.75959957e+00, -2.93361646e-01,  6.57097620e-01,\n",
       "        2.84749165e+00, -1.17568693e+00,  8.39894158e-02, -2.36265062e+00,\n",
       "       -2.22778415e+00, -1.54633743e+00, -7.00214756e-01,  1.34226391e+00,\n",
       "       -3.44879767e+00,  1.35412714e+00,  1.01897316e+00, -2.36415162e+00,\n",
       "       -6.25632385e-01, -1.02171443e-01,  2.12564566e+00, -1.33045920e+00,\n",
       "       -2.41926643e+00, -1.82541968e+00, -2.14354826e-02,  3.76217943e-01,\n",
       "        1.43341765e+00, -1.29831879e+00, -1.10267035e+00, -1.98374627e-01,\n",
       "       -1.38483005e+00,  2.46226250e+00,  4.70137071e+00,  7.03808208e-01,\n",
       "        2.64092922e-01])"
      ]
     },
     "execution_count": 28,
     "metadata": {},
     "output_type": "execute_result"
    }
   ],
   "source": []
  },
  {
   "cell_type": "code",
   "execution_count": 29,
   "id": "65639af0815f8e7",
   "metadata": {
    "ExecuteTime": {
     "end_time": "2025-08-17T03:26:57.916948Z",
     "start_time": "2025-08-17T03:26:57.692028Z"
    }
   },
   "outputs": [
    {
     "name": "stdout",
     "output_type": "stream",
     "text": [
      "시계열 데이터:\n",
      "                 sales\n",
      "date                  \n",
      "2024-01-01   97.502284\n",
      "2024-01-02  102.785193\n",
      "2024-01-03  100.410489\n",
      "2024-01-04  103.586874\n",
      "2024-01-05  100.738909\n"
     ]
    }
   ],
   "source": [
    "import pandas as pd\n",
    "\n",
    "sales_data = 100 + trend + seasonal + noise\n",
    "\n",
    "# DataFrame 생성\n",
    "timeseries_df = pd.DataFrame({\"date\": dates, \"sales\": sales_data})\n",
    "timeseries_df[\"date\"] = pd.to_datetime(timeseries_df[\"date\"])\n",
    "timeseries_df.set_index(\"date\", inplace=True)\n",
    "\n",
    "print(\"시계열 데이터:\")\n",
    "print(timeseries_df.head())"
   ]
  },
  {
   "cell_type": "code",
   "execution_count": 30,
   "id": "5037dd159a882ee3",
   "metadata": {
    "ExecuteTime": {
     "end_time": "2025-08-17T03:27:59.052042Z",
     "start_time": "2025-08-17T03:27:59.044488Z"
    }
   },
   "outputs": [],
   "source": [
    "timeseries_df[\"ma_7\"] = timeseries_df[\"sales\"].rolling(window=7).mean()\n",
    "timeseries_df[\"ma_30\"] = timeseries_df[\"sales\"].rolling(window=30).mean()"
   ]
  },
  {
   "cell_type": "code",
   "execution_count": 31,
   "id": "edc670f09bf7a8b4",
   "metadata": {
    "ExecuteTime": {
     "end_time": "2025-08-17T03:28:00.275694Z",
     "start_time": "2025-08-17T03:28:00.272309Z"
    }
   },
   "outputs": [],
   "source": [
    "timeseries_df[\"sales_diff\"] = timeseries_df[\"sales\"].diff()"
   ]
  },
  {
   "cell_type": "code",
   "execution_count": 32,
   "id": "141868d1585746a5",
   "metadata": {
    "ExecuteTime": {
     "end_time": "2025-08-17T03:28:28.143351Z",
     "start_time": "2025-08-17T03:28:28.136678Z"
    }
   },
   "outputs": [],
   "source": [
    "timeseries_df[\"sales_percentile\"] = timeseries_df[\"sales\"].rank(pct=True)"
   ]
  },
  {
   "cell_type": "code",
   "execution_count": 33,
   "id": "ead2ea0f94711a05",
   "metadata": {
    "ExecuteTime": {
     "end_time": "2025-08-17T03:28:40.268447Z",
     "start_time": "2025-08-17T03:28:40.259933Z"
    }
   },
   "outputs": [
    {
     "data": {
      "text/html": [
       "<div>\n",
       "<style scoped>\n",
       "    .dataframe tbody tr th:only-of-type {\n",
       "        vertical-align: middle;\n",
       "    }\n",
       "\n",
       "    .dataframe tbody tr th {\n",
       "        vertical-align: top;\n",
       "    }\n",
       "\n",
       "    .dataframe thead th {\n",
       "        text-align: right;\n",
       "    }\n",
       "</style>\n",
       "<table border=\"1\" class=\"dataframe\">\n",
       "  <thead>\n",
       "    <tr style=\"text-align: right;\">\n",
       "      <th></th>\n",
       "      <th>sales</th>\n",
       "      <th>ma_7</th>\n",
       "      <th>ma_30</th>\n",
       "      <th>sales_diff</th>\n",
       "      <th>sales_percentile</th>\n",
       "    </tr>\n",
       "    <tr>\n",
       "      <th>date</th>\n",
       "      <th></th>\n",
       "      <th></th>\n",
       "      <th></th>\n",
       "      <th></th>\n",
       "      <th></th>\n",
       "    </tr>\n",
       "  </thead>\n",
       "  <tbody>\n",
       "    <tr>\n",
       "      <th>2024-01-01</th>\n",
       "      <td>97.502284</td>\n",
       "      <td>NaN</td>\n",
       "      <td>NaN</td>\n",
       "      <td>NaN</td>\n",
       "      <td>0.002740</td>\n",
       "    </tr>\n",
       "    <tr>\n",
       "      <th>2024-01-02</th>\n",
       "      <td>102.785193</td>\n",
       "      <td>NaN</td>\n",
       "      <td>NaN</td>\n",
       "      <td>5.282908</td>\n",
       "      <td>0.035616</td>\n",
       "    </tr>\n",
       "    <tr>\n",
       "      <th>2024-01-03</th>\n",
       "      <td>100.410489</td>\n",
       "      <td>NaN</td>\n",
       "      <td>NaN</td>\n",
       "      <td>-2.374703</td>\n",
       "      <td>0.010959</td>\n",
       "    </tr>\n",
       "    <tr>\n",
       "      <th>2024-01-04</th>\n",
       "      <td>103.586874</td>\n",
       "      <td>NaN</td>\n",
       "      <td>NaN</td>\n",
       "      <td>3.176385</td>\n",
       "      <td>0.049315</td>\n",
       "    </tr>\n",
       "    <tr>\n",
       "      <th>2024-01-05</th>\n",
       "      <td>100.738909</td>\n",
       "      <td>NaN</td>\n",
       "      <td>NaN</td>\n",
       "      <td>-2.847965</td>\n",
       "      <td>0.016438</td>\n",
       "    </tr>\n",
       "    <tr>\n",
       "      <th>...</th>\n",
       "      <td>...</td>\n",
       "      <td>...</td>\n",
       "      <td>...</td>\n",
       "      <td>...</td>\n",
       "      <td>...</td>\n",
       "    </tr>\n",
       "    <tr>\n",
       "      <th>2024-12-26</th>\n",
       "      <td>133.755522</td>\n",
       "      <td>134.014312</td>\n",
       "      <td>130.696590</td>\n",
       "      <td>-0.915086</td>\n",
       "      <td>0.978082</td>\n",
       "    </tr>\n",
       "    <tr>\n",
       "      <th>2024-12-27</th>\n",
       "      <td>137.874238</td>\n",
       "      <td>134.639732</td>\n",
       "      <td>131.071216</td>\n",
       "      <td>4.118716</td>\n",
       "      <td>0.997260</td>\n",
       "    </tr>\n",
       "    <tr>\n",
       "      <th>2024-12-28</th>\n",
       "      <td>140.385174</td>\n",
       "      <td>135.528574</td>\n",
       "      <td>131.556221</td>\n",
       "      <td>2.510936</td>\n",
       "      <td>1.000000</td>\n",
       "    </tr>\n",
       "    <tr>\n",
       "      <th>2024-12-29</th>\n",
       "      <td>136.659592</td>\n",
       "      <td>135.695611</td>\n",
       "      <td>131.901332</td>\n",
       "      <td>-3.725582</td>\n",
       "      <td>0.994521</td>\n",
       "    </tr>\n",
       "    <tr>\n",
       "      <th>2024-12-30</th>\n",
       "      <td>136.491959</td>\n",
       "      <td>136.190335</td>\n",
       "      <td>132.183733</td>\n",
       "      <td>-0.167633</td>\n",
       "      <td>0.991781</td>\n",
       "    </tr>\n",
       "  </tbody>\n",
       "</table>\n",
       "<p>365 rows × 5 columns</p>\n",
       "</div>"
      ],
      "text/plain": [
       "                 sales        ma_7       ma_30  sales_diff  sales_percentile\n",
       "date                                                                        \n",
       "2024-01-01   97.502284         NaN         NaN         NaN          0.002740\n",
       "2024-01-02  102.785193         NaN         NaN    5.282908          0.035616\n",
       "2024-01-03  100.410489         NaN         NaN   -2.374703          0.010959\n",
       "2024-01-04  103.586874         NaN         NaN    3.176385          0.049315\n",
       "2024-01-05  100.738909         NaN         NaN   -2.847965          0.016438\n",
       "...                ...         ...         ...         ...               ...\n",
       "2024-12-26  133.755522  134.014312  130.696590   -0.915086          0.978082\n",
       "2024-12-27  137.874238  134.639732  131.071216    4.118716          0.997260\n",
       "2024-12-28  140.385174  135.528574  131.556221    2.510936          1.000000\n",
       "2024-12-29  136.659592  135.695611  131.901332   -3.725582          0.994521\n",
       "2024-12-30  136.491959  136.190335  132.183733   -0.167633          0.991781\n",
       "\n",
       "[365 rows x 5 columns]"
      ]
     },
     "execution_count": 33,
     "metadata": {},
     "output_type": "execute_result"
    }
   ],
   "source": [
    "timeseries_df"
   ]
  },
  {
   "cell_type": "code",
   "execution_count": 41,
   "id": "daad5256c48c4ce0",
   "metadata": {
    "ExecuteTime": {
     "end_time": "2025-08-17T03:34:58.679799Z",
     "start_time": "2025-08-17T03:34:58.579433Z"
    }
   },
   "outputs": [
    {
     "data": {
      "image/png": "[encoded data removed]",
      "text/plain": [
       "<Figure size 1000x600 with 1 Axes>"
      ]
     },
     "metadata": {},
     "output_type": "display_data"
    }
   ],
   "source": [
    "import matplotlib.pyplot as plt\n",
    "import warnings\n",
    "\n",
    "# 한글 폰트 설정\n",
    "plt.rcParams[\"font.family\"] = [\n",
    "    \"DejaVu Sans\",\n",
    "    \"AppleGothic\",\n",
    "    \"Arial Unicode MS\",\n",
    "]\n",
    "# 폰트 경고 무시\n",
    "warnings.filterwarnings(\n",
    "    \"ignore\", category=UserWarning, module=\"matplotlib.font_manager\"\n",
    ")\n",
    "\n",
    "plt.figure(figsize=(10, 6))\n",
    "plt.plot(timeseries_df.index, timeseries_df[\"sales\"], label=\"sales\", marker=\"o\")\n",
    "plt.plot(timeseries_df.index, timeseries_df[\"ma_7\"], label=\"ma_7\", marker=\"s\")\n",
    "plt.plot(timeseries_df.index, timeseries_df[\"ma_30\"], label=\"ma_30\", marker=\"^\")\n",
    "plt.title(\"일별 매출\")\n",
    "plt.xlabel(\"날짜\")\n",
    "plt.ylabel(\"매출\")\n",
    "plt.legend()\n",
    "plt.grid()\n",
    "plt.xticks(rotation=45)\n",
    "plt.show()"
   ]
  },
  {
   "cell_type": "code",
   "execution_count": null,
   "id": "3d189cd4704dd172",
   "metadata": {},
   "outputs": [],
   "source": []
  }
 ],
 "metadata": {
  "kernelspec": {
   "display_name": "Python 3",
   "language": "python",
   "name": "python3"
  },
  "language_info": {
   "codemirror_mode": {
    "name": "ipython",
    "version": 2
   },
   "file_extension": ".py",
   "mimetype": "text/x-python",
   "name": "python",
   "nbconvert_exporter": "python",
   "pygments_lexer": "ipython2",
   "version": "2.7.6"
  }
 },
 "nbformat": 4,
 "nbformat_minor": 5
}
